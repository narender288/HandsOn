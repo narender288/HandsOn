{
 "cells": [
  {
   "cell_type": "code",
   "execution_count": 7,
   "id": "56c185ac-efe4-4d4c-91dd-bfd4414638e6",
   "metadata": {},
   "outputs": [],
   "source": [
    "import pandas as pd\n",
    "import numpy as np\n",
    "import matplotlib.pyplot as plt"
   ]
  },
  {
   "cell_type": "code",
   "execution_count": 8,
   "id": "357c8502-7cc1-4e51-bdf5-2a4ebea0e354",
   "metadata": {},
   "outputs": [],
   "source": [
    "df = pd.read_csv(\"train.csv\")"
   ]
  },
  {
   "cell_type": "code",
   "execution_count": 9,
   "id": "4ac083b4-22de-4198-9065-4904e514519e",
   "metadata": {},
   "outputs": [
    {
     "data": {
      "text/html": [
       "<div>\n",
       "<style scoped>\n",
       "    .dataframe tbody tr th:only-of-type {\n",
       "        vertical-align: middle;\n",
       "    }\n",
       "\n",
       "    .dataframe tbody tr th {\n",
       "        vertical-align: top;\n",
       "    }\n",
       "\n",
       "    .dataframe thead th {\n",
       "        text-align: right;\n",
       "    }\n",
       "</style>\n",
       "<table border=\"1\" class=\"dataframe\">\n",
       "  <thead>\n",
       "    <tr style=\"text-align: right;\">\n",
       "      <th></th>\n",
       "      <th>User_ID</th>\n",
       "      <th>Product_ID</th>\n",
       "      <th>Gender</th>\n",
       "      <th>Age</th>\n",
       "      <th>Occupation</th>\n",
       "      <th>City_Category</th>\n",
       "      <th>Stay_In_Current_City_Years</th>\n",
       "      <th>Marital_Status</th>\n",
       "      <th>Product_Category_1</th>\n",
       "      <th>Product_Category_2</th>\n",
       "      <th>Product_Category_3</th>\n",
       "      <th>Purchase</th>\n",
       "    </tr>\n",
       "  </thead>\n",
       "  <tbody>\n",
       "    <tr>\n",
       "      <th>0</th>\n",
       "      <td>1000001</td>\n",
       "      <td>P00069042</td>\n",
       "      <td>F</td>\n",
       "      <td>0-17</td>\n",
       "      <td>10</td>\n",
       "      <td>A</td>\n",
       "      <td>2</td>\n",
       "      <td>0</td>\n",
       "      <td>3</td>\n",
       "      <td>NaN</td>\n",
       "      <td>NaN</td>\n",
       "      <td>8370</td>\n",
       "    </tr>\n",
       "    <tr>\n",
       "      <th>1</th>\n",
       "      <td>1000001</td>\n",
       "      <td>P00248942</td>\n",
       "      <td>F</td>\n",
       "      <td>0-17</td>\n",
       "      <td>10</td>\n",
       "      <td>A</td>\n",
       "      <td>2</td>\n",
       "      <td>0</td>\n",
       "      <td>1</td>\n",
       "      <td>6.0</td>\n",
       "      <td>14.0</td>\n",
       "      <td>15200</td>\n",
       "    </tr>\n",
       "    <tr>\n",
       "      <th>2</th>\n",
       "      <td>1000001</td>\n",
       "      <td>P00087842</td>\n",
       "      <td>F</td>\n",
       "      <td>0-17</td>\n",
       "      <td>10</td>\n",
       "      <td>A</td>\n",
       "      <td>2</td>\n",
       "      <td>0</td>\n",
       "      <td>12</td>\n",
       "      <td>NaN</td>\n",
       "      <td>NaN</td>\n",
       "      <td>1422</td>\n",
       "    </tr>\n",
       "    <tr>\n",
       "      <th>3</th>\n",
       "      <td>1000001</td>\n",
       "      <td>P00085442</td>\n",
       "      <td>F</td>\n",
       "      <td>0-17</td>\n",
       "      <td>10</td>\n",
       "      <td>A</td>\n",
       "      <td>2</td>\n",
       "      <td>0</td>\n",
       "      <td>12</td>\n",
       "      <td>14.0</td>\n",
       "      <td>NaN</td>\n",
       "      <td>1057</td>\n",
       "    </tr>\n",
       "    <tr>\n",
       "      <th>4</th>\n",
       "      <td>1000002</td>\n",
       "      <td>P00285442</td>\n",
       "      <td>M</td>\n",
       "      <td>55+</td>\n",
       "      <td>16</td>\n",
       "      <td>C</td>\n",
       "      <td>4+</td>\n",
       "      <td>0</td>\n",
       "      <td>8</td>\n",
       "      <td>NaN</td>\n",
       "      <td>NaN</td>\n",
       "      <td>7969</td>\n",
       "    </tr>\n",
       "    <tr>\n",
       "      <th>...</th>\n",
       "      <td>...</td>\n",
       "      <td>...</td>\n",
       "      <td>...</td>\n",
       "      <td>...</td>\n",
       "      <td>...</td>\n",
       "      <td>...</td>\n",
       "      <td>...</td>\n",
       "      <td>...</td>\n",
       "      <td>...</td>\n",
       "      <td>...</td>\n",
       "      <td>...</td>\n",
       "      <td>...</td>\n",
       "    </tr>\n",
       "    <tr>\n",
       "      <th>550063</th>\n",
       "      <td>1006033</td>\n",
       "      <td>P00372445</td>\n",
       "      <td>M</td>\n",
       "      <td>51-55</td>\n",
       "      <td>13</td>\n",
       "      <td>B</td>\n",
       "      <td>1</td>\n",
       "      <td>1</td>\n",
       "      <td>20</td>\n",
       "      <td>NaN</td>\n",
       "      <td>NaN</td>\n",
       "      <td>368</td>\n",
       "    </tr>\n",
       "    <tr>\n",
       "      <th>550064</th>\n",
       "      <td>1006035</td>\n",
       "      <td>P00375436</td>\n",
       "      <td>F</td>\n",
       "      <td>26-35</td>\n",
       "      <td>1</td>\n",
       "      <td>C</td>\n",
       "      <td>3</td>\n",
       "      <td>0</td>\n",
       "      <td>20</td>\n",
       "      <td>NaN</td>\n",
       "      <td>NaN</td>\n",
       "      <td>371</td>\n",
       "    </tr>\n",
       "    <tr>\n",
       "      <th>550065</th>\n",
       "      <td>1006036</td>\n",
       "      <td>P00375436</td>\n",
       "      <td>F</td>\n",
       "      <td>26-35</td>\n",
       "      <td>15</td>\n",
       "      <td>B</td>\n",
       "      <td>4+</td>\n",
       "      <td>1</td>\n",
       "      <td>20</td>\n",
       "      <td>NaN</td>\n",
       "      <td>NaN</td>\n",
       "      <td>137</td>\n",
       "    </tr>\n",
       "    <tr>\n",
       "      <th>550066</th>\n",
       "      <td>1006038</td>\n",
       "      <td>P00375436</td>\n",
       "      <td>F</td>\n",
       "      <td>55+</td>\n",
       "      <td>1</td>\n",
       "      <td>C</td>\n",
       "      <td>2</td>\n",
       "      <td>0</td>\n",
       "      <td>20</td>\n",
       "      <td>NaN</td>\n",
       "      <td>NaN</td>\n",
       "      <td>365</td>\n",
       "    </tr>\n",
       "    <tr>\n",
       "      <th>550067</th>\n",
       "      <td>1006039</td>\n",
       "      <td>P00371644</td>\n",
       "      <td>F</td>\n",
       "      <td>46-50</td>\n",
       "      <td>0</td>\n",
       "      <td>B</td>\n",
       "      <td>4+</td>\n",
       "      <td>1</td>\n",
       "      <td>20</td>\n",
       "      <td>NaN</td>\n",
       "      <td>NaN</td>\n",
       "      <td>490</td>\n",
       "    </tr>\n",
       "  </tbody>\n",
       "</table>\n",
       "<p>550068 rows × 12 columns</p>\n",
       "</div>"
      ],
      "text/plain": [
       "        User_ID Product_ID Gender    Age  Occupation City_Category  \\\n",
       "0       1000001  P00069042      F   0-17          10             A   \n",
       "1       1000001  P00248942      F   0-17          10             A   \n",
       "2       1000001  P00087842      F   0-17          10             A   \n",
       "3       1000001  P00085442      F   0-17          10             A   \n",
       "4       1000002  P00285442      M    55+          16             C   \n",
       "...         ...        ...    ...    ...         ...           ...   \n",
       "550063  1006033  P00372445      M  51-55          13             B   \n",
       "550064  1006035  P00375436      F  26-35           1             C   \n",
       "550065  1006036  P00375436      F  26-35          15             B   \n",
       "550066  1006038  P00375436      F    55+           1             C   \n",
       "550067  1006039  P00371644      F  46-50           0             B   \n",
       "\n",
       "       Stay_In_Current_City_Years  Marital_Status  Product_Category_1  \\\n",
       "0                               2               0                   3   \n",
       "1                               2               0                   1   \n",
       "2                               2               0                  12   \n",
       "3                               2               0                  12   \n",
       "4                              4+               0                   8   \n",
       "...                           ...             ...                 ...   \n",
       "550063                          1               1                  20   \n",
       "550064                          3               0                  20   \n",
       "550065                         4+               1                  20   \n",
       "550066                          2               0                  20   \n",
       "550067                         4+               1                  20   \n",
       "\n",
       "        Product_Category_2  Product_Category_3  Purchase  \n",
       "0                      NaN                 NaN      8370  \n",
       "1                      6.0                14.0     15200  \n",
       "2                      NaN                 NaN      1422  \n",
       "3                     14.0                 NaN      1057  \n",
       "4                      NaN                 NaN      7969  \n",
       "...                    ...                 ...       ...  \n",
       "550063                 NaN                 NaN       368  \n",
       "550064                 NaN                 NaN       371  \n",
       "550065                 NaN                 NaN       137  \n",
       "550066                 NaN                 NaN       365  \n",
       "550067                 NaN                 NaN       490  \n",
       "\n",
       "[550068 rows x 12 columns]"
      ]
     },
     "execution_count": 9,
     "metadata": {},
     "output_type": "execute_result"
    }
   ],
   "source": [
    "df"
   ]
  },
  {
   "cell_type": "code",
   "execution_count": 10,
   "id": "cb12d245-bb55-422a-a8d5-f186bd492438",
   "metadata": {},
   "outputs": [
    {
     "name": "stdout",
     "output_type": "stream",
     "text": [
      "<class 'pandas.core.frame.DataFrame'>\n",
      "RangeIndex: 550068 entries, 0 to 550067\n",
      "Data columns (total 12 columns):\n",
      " #   Column                      Non-Null Count   Dtype  \n",
      "---  ------                      --------------   -----  \n",
      " 0   User_ID                     550068 non-null  int64  \n",
      " 1   Product_ID                  550068 non-null  object \n",
      " 2   Gender                      550068 non-null  object \n",
      " 3   Age                         550068 non-null  object \n",
      " 4   Occupation                  550068 non-null  int64  \n",
      " 5   City_Category               550068 non-null  object \n",
      " 6   Stay_In_Current_City_Years  550068 non-null  object \n",
      " 7   Marital_Status              550068 non-null  int64  \n",
      " 8   Product_Category_1          550068 non-null  int64  \n",
      " 9   Product_Category_2          376430 non-null  float64\n",
      " 10  Product_Category_3          166821 non-null  float64\n",
      " 11  Purchase                    550068 non-null  int64  \n",
      "dtypes: float64(2), int64(5), object(5)\n",
      "memory usage: 50.4+ MB\n"
     ]
    }
   ],
   "source": [
    "df.info()"
   ]
  },
  {
   "cell_type": "code",
   "execution_count": 11,
   "id": "b3807c23-e898-4c44-8988-fb8295ba3311",
   "metadata": {},
   "outputs": [
    {
     "data": {
      "text/plain": [
       "Index(['User_ID', 'Product_ID', 'Gender', 'Age', 'Occupation', 'City_Category',\n",
       "       'Stay_In_Current_City_Years', 'Marital_Status', 'Product_Category_1',\n",
       "       'Product_Category_2', 'Product_Category_3', 'Purchase'],\n",
       "      dtype='object')"
      ]
     },
     "execution_count": 11,
     "metadata": {},
     "output_type": "execute_result"
    }
   ],
   "source": [
    "df.columns   # provide name of al the columns."
   ]
  },
  {
   "cell_type": "code",
   "execution_count": 12,
   "id": "2addd363-cba0-47c4-8cef-16449e0b57c7",
   "metadata": {},
   "outputs": [],
   "source": [
    "df2 = df.dropna()   # by this we drop all the rows that contain null values."
   ]
  },
  {
   "cell_type": "code",
   "execution_count": 13,
   "id": "5efc4968-9714-4c9b-b5ad-650eed599316",
   "metadata": {},
   "outputs": [
    {
     "data": {
      "text/html": [
       "<div>\n",
       "<style scoped>\n",
       "    .dataframe tbody tr th:only-of-type {\n",
       "        vertical-align: middle;\n",
       "    }\n",
       "\n",
       "    .dataframe tbody tr th {\n",
       "        vertical-align: top;\n",
       "    }\n",
       "\n",
       "    .dataframe thead th {\n",
       "        text-align: right;\n",
       "    }\n",
       "</style>\n",
       "<table border=\"1\" class=\"dataframe\">\n",
       "  <thead>\n",
       "    <tr style=\"text-align: right;\">\n",
       "      <th></th>\n",
       "      <th>User_ID</th>\n",
       "      <th>Product_ID</th>\n",
       "      <th>Gender</th>\n",
       "      <th>Age</th>\n",
       "      <th>Occupation</th>\n",
       "      <th>City_Category</th>\n",
       "      <th>Stay_In_Current_City_Years</th>\n",
       "      <th>Marital_Status</th>\n",
       "      <th>Product_Category_1</th>\n",
       "      <th>Product_Category_2</th>\n",
       "      <th>Product_Category_3</th>\n",
       "      <th>Purchase</th>\n",
       "    </tr>\n",
       "  </thead>\n",
       "  <tbody>\n",
       "    <tr>\n",
       "      <th>1</th>\n",
       "      <td>1000001</td>\n",
       "      <td>P00248942</td>\n",
       "      <td>F</td>\n",
       "      <td>0-17</td>\n",
       "      <td>10</td>\n",
       "      <td>A</td>\n",
       "      <td>2</td>\n",
       "      <td>0</td>\n",
       "      <td>1</td>\n",
       "      <td>6.0</td>\n",
       "      <td>14.0</td>\n",
       "      <td>15200</td>\n",
       "    </tr>\n",
       "    <tr>\n",
       "      <th>6</th>\n",
       "      <td>1000004</td>\n",
       "      <td>P00184942</td>\n",
       "      <td>M</td>\n",
       "      <td>46-50</td>\n",
       "      <td>7</td>\n",
       "      <td>B</td>\n",
       "      <td>2</td>\n",
       "      <td>1</td>\n",
       "      <td>1</td>\n",
       "      <td>8.0</td>\n",
       "      <td>17.0</td>\n",
       "      <td>19215</td>\n",
       "    </tr>\n",
       "    <tr>\n",
       "      <th>13</th>\n",
       "      <td>1000005</td>\n",
       "      <td>P00145042</td>\n",
       "      <td>M</td>\n",
       "      <td>26-35</td>\n",
       "      <td>20</td>\n",
       "      <td>A</td>\n",
       "      <td>1</td>\n",
       "      <td>1</td>\n",
       "      <td>1</td>\n",
       "      <td>2.0</td>\n",
       "      <td>5.0</td>\n",
       "      <td>15665</td>\n",
       "    </tr>\n",
       "    <tr>\n",
       "      <th>14</th>\n",
       "      <td>1000006</td>\n",
       "      <td>P00231342</td>\n",
       "      <td>F</td>\n",
       "      <td>51-55</td>\n",
       "      <td>9</td>\n",
       "      <td>A</td>\n",
       "      <td>1</td>\n",
       "      <td>0</td>\n",
       "      <td>5</td>\n",
       "      <td>8.0</td>\n",
       "      <td>14.0</td>\n",
       "      <td>5378</td>\n",
       "    </tr>\n",
       "    <tr>\n",
       "      <th>16</th>\n",
       "      <td>1000006</td>\n",
       "      <td>P0096642</td>\n",
       "      <td>F</td>\n",
       "      <td>51-55</td>\n",
       "      <td>9</td>\n",
       "      <td>A</td>\n",
       "      <td>1</td>\n",
       "      <td>0</td>\n",
       "      <td>2</td>\n",
       "      <td>3.0</td>\n",
       "      <td>4.0</td>\n",
       "      <td>13055</td>\n",
       "    </tr>\n",
       "    <tr>\n",
       "      <th>...</th>\n",
       "      <td>...</td>\n",
       "      <td>...</td>\n",
       "      <td>...</td>\n",
       "      <td>...</td>\n",
       "      <td>...</td>\n",
       "      <td>...</td>\n",
       "      <td>...</td>\n",
       "      <td>...</td>\n",
       "      <td>...</td>\n",
       "      <td>...</td>\n",
       "      <td>...</td>\n",
       "      <td>...</td>\n",
       "    </tr>\n",
       "    <tr>\n",
       "      <th>545902</th>\n",
       "      <td>1006039</td>\n",
       "      <td>P00064042</td>\n",
       "      <td>F</td>\n",
       "      <td>46-50</td>\n",
       "      <td>0</td>\n",
       "      <td>B</td>\n",
       "      <td>4+</td>\n",
       "      <td>1</td>\n",
       "      <td>3</td>\n",
       "      <td>4.0</td>\n",
       "      <td>12.0</td>\n",
       "      <td>8047</td>\n",
       "    </tr>\n",
       "    <tr>\n",
       "      <th>545904</th>\n",
       "      <td>1006040</td>\n",
       "      <td>P00081142</td>\n",
       "      <td>M</td>\n",
       "      <td>26-35</td>\n",
       "      <td>6</td>\n",
       "      <td>B</td>\n",
       "      <td>2</td>\n",
       "      <td>0</td>\n",
       "      <td>6</td>\n",
       "      <td>8.0</td>\n",
       "      <td>14.0</td>\n",
       "      <td>16493</td>\n",
       "    </tr>\n",
       "    <tr>\n",
       "      <th>545907</th>\n",
       "      <td>1006040</td>\n",
       "      <td>P00277642</td>\n",
       "      <td>M</td>\n",
       "      <td>26-35</td>\n",
       "      <td>6</td>\n",
       "      <td>B</td>\n",
       "      <td>2</td>\n",
       "      <td>0</td>\n",
       "      <td>2</td>\n",
       "      <td>3.0</td>\n",
       "      <td>10.0</td>\n",
       "      <td>3425</td>\n",
       "    </tr>\n",
       "    <tr>\n",
       "      <th>545908</th>\n",
       "      <td>1006040</td>\n",
       "      <td>P00127642</td>\n",
       "      <td>M</td>\n",
       "      <td>26-35</td>\n",
       "      <td>6</td>\n",
       "      <td>B</td>\n",
       "      <td>2</td>\n",
       "      <td>0</td>\n",
       "      <td>1</td>\n",
       "      <td>2.0</td>\n",
       "      <td>15.0</td>\n",
       "      <td>15694</td>\n",
       "    </tr>\n",
       "    <tr>\n",
       "      <th>545914</th>\n",
       "      <td>1006040</td>\n",
       "      <td>P00217442</td>\n",
       "      <td>M</td>\n",
       "      <td>26-35</td>\n",
       "      <td>6</td>\n",
       "      <td>B</td>\n",
       "      <td>2</td>\n",
       "      <td>0</td>\n",
       "      <td>1</td>\n",
       "      <td>2.0</td>\n",
       "      <td>11.0</td>\n",
       "      <td>11640</td>\n",
       "    </tr>\n",
       "  </tbody>\n",
       "</table>\n",
       "<p>166821 rows × 12 columns</p>\n",
       "</div>"
      ],
      "text/plain": [
       "        User_ID Product_ID Gender    Age  Occupation City_Category  \\\n",
       "1       1000001  P00248942      F   0-17          10             A   \n",
       "6       1000004  P00184942      M  46-50           7             B   \n",
       "13      1000005  P00145042      M  26-35          20             A   \n",
       "14      1000006  P00231342      F  51-55           9             A   \n",
       "16      1000006   P0096642      F  51-55           9             A   \n",
       "...         ...        ...    ...    ...         ...           ...   \n",
       "545902  1006039  P00064042      F  46-50           0             B   \n",
       "545904  1006040  P00081142      M  26-35           6             B   \n",
       "545907  1006040  P00277642      M  26-35           6             B   \n",
       "545908  1006040  P00127642      M  26-35           6             B   \n",
       "545914  1006040  P00217442      M  26-35           6             B   \n",
       "\n",
       "       Stay_In_Current_City_Years  Marital_Status  Product_Category_1  \\\n",
       "1                               2               0                   1   \n",
       "6                               2               1                   1   \n",
       "13                              1               1                   1   \n",
       "14                              1               0                   5   \n",
       "16                              1               0                   2   \n",
       "...                           ...             ...                 ...   \n",
       "545902                         4+               1                   3   \n",
       "545904                          2               0                   6   \n",
       "545907                          2               0                   2   \n",
       "545908                          2               0                   1   \n",
       "545914                          2               0                   1   \n",
       "\n",
       "        Product_Category_2  Product_Category_3  Purchase  \n",
       "1                      6.0                14.0     15200  \n",
       "6                      8.0                17.0     19215  \n",
       "13                     2.0                 5.0     15665  \n",
       "14                     8.0                14.0      5378  \n",
       "16                     3.0                 4.0     13055  \n",
       "...                    ...                 ...       ...  \n",
       "545902                 4.0                12.0      8047  \n",
       "545904                 8.0                14.0     16493  \n",
       "545907                 3.0                10.0      3425  \n",
       "545908                 2.0                15.0     15694  \n",
       "545914                 2.0                11.0     11640  \n",
       "\n",
       "[166821 rows x 12 columns]"
      ]
     },
     "execution_count": 13,
     "metadata": {},
     "output_type": "execute_result"
    }
   ],
   "source": [
    "df2"
   ]
  },
  {
   "cell_type": "code",
   "execution_count": 14,
   "id": "3131d58b-0062-43fb-a581-27ba1d58a0c0",
   "metadata": {},
   "outputs": [
    {
     "name": "stdout",
     "output_type": "stream",
     "text": [
      "<class 'pandas.core.frame.DataFrame'>\n",
      "Index: 166821 entries, 1 to 545914\n",
      "Data columns (total 12 columns):\n",
      " #   Column                      Non-Null Count   Dtype  \n",
      "---  ------                      --------------   -----  \n",
      " 0   User_ID                     166821 non-null  int64  \n",
      " 1   Product_ID                  166821 non-null  object \n",
      " 2   Gender                      166821 non-null  object \n",
      " 3   Age                         166821 non-null  object \n",
      " 4   Occupation                  166821 non-null  int64  \n",
      " 5   City_Category               166821 non-null  object \n",
      " 6   Stay_In_Current_City_Years  166821 non-null  object \n",
      " 7   Marital_Status              166821 non-null  int64  \n",
      " 8   Product_Category_1          166821 non-null  int64  \n",
      " 9   Product_Category_2          166821 non-null  float64\n",
      " 10  Product_Category_3          166821 non-null  float64\n",
      " 11  Purchase                    166821 non-null  int64  \n",
      "dtypes: float64(2), int64(5), object(5)\n",
      "memory usage: 16.5+ MB\n"
     ]
    }
   ],
   "source": [
    "df2.info()"
   ]
  },
  {
   "cell_type": "code",
   "execution_count": 15,
   "id": "f1284814-e25b-49d7-8f23-379f771d7cc3",
   "metadata": {},
   "outputs": [],
   "source": [
    "# total number of rows left is 166821 from 550068."
   ]
  },
  {
   "cell_type": "code",
   "execution_count": 16,
   "id": "9c9a8603-0380-4591-a8a0-da4f0e337563",
   "metadata": {},
   "outputs": [],
   "source": [
    "# choosing between dropna and fillna depends on the nature of your data and the impact that missing values have on your analysis"
   ]
  },
  {
   "cell_type": "markdown",
   "id": "2b3f6be9-a392-4ac2-9dff-3920d05e895b",
   "metadata": {},
   "source": [
    "## here we can't use dropna as we are losing around 4 lakh rows , data is important so we go for fillna."
   ]
  },
  {
   "cell_type": "code",
   "execution_count": 17,
   "id": "b8b6d379-d05c-4f78-9da9-a44734d4c47b",
   "metadata": {},
   "outputs": [
    {
     "data": {
      "text/plain": [
       "User_ID                            0\n",
       "Product_ID                         0\n",
       "Gender                             0\n",
       "Age                                0\n",
       "Occupation                         0\n",
       "City_Category                      0\n",
       "Stay_In_Current_City_Years         0\n",
       "Marital_Status                     0\n",
       "Product_Category_1                 0\n",
       "Product_Category_2            173638\n",
       "Product_Category_3            383247\n",
       "Purchase                           0\n",
       "dtype: int64"
      ]
     },
     "execution_count": 17,
     "metadata": {},
     "output_type": "execute_result"
    }
   ],
   "source": [
    "df.isnull().sum()"
   ]
  },
  {
   "cell_type": "code",
   "execution_count": 18,
   "id": "adb554f3-ac9d-4084-924a-f92b6816267e",
   "metadata": {},
   "outputs": [
    {
     "data": {
      "text/plain": [
       "556885"
      ]
     },
     "execution_count": 18,
     "metadata": {},
     "output_type": "execute_result"
    }
   ],
   "source": [
    "df.isnull().sum().sum()"
   ]
  },
  {
   "cell_type": "code",
   "execution_count": 19,
   "id": "5f6a6f8b-f40d-4f2d-8cd0-0a3c0374cdb1",
   "metadata": {},
   "outputs": [
    {
     "data": {
      "text/plain": [
       "User_ID                       0\n",
       "Product_ID                    0\n",
       "Gender                        0\n",
       "Age                           0\n",
       "Occupation                    0\n",
       "City_Category                 0\n",
       "Stay_In_Current_City_Years    0\n",
       "Marital_Status                0\n",
       "Product_Category_1            0\n",
       "Product_Category_2            0\n",
       "Product_Category_3            0\n",
       "Purchase                      0\n",
       "dtype: int64"
      ]
     },
     "execution_count": 19,
     "metadata": {},
     "output_type": "execute_result"
    }
   ],
   "source": [
    "df2.isnull().sum()"
   ]
  },
  {
   "cell_type": "code",
   "execution_count": 20,
   "id": "8f0214f1-b9f6-41af-bcc8-33d882f88597",
   "metadata": {},
   "outputs": [
    {
     "data": {
      "text/plain": [
       "0"
      ]
     },
     "execution_count": 20,
     "metadata": {},
     "output_type": "execute_result"
    }
   ],
   "source": [
    "df2.isnull().sum().sum()"
   ]
  },
  {
   "cell_type": "code",
   "execution_count": 21,
   "id": "c6eee028-6217-4c56-a8a9-2df121a0c6cf",
   "metadata": {},
   "outputs": [],
   "source": [
    "# so we go for filling the data"
   ]
  },
  {
   "cell_type": "code",
   "execution_count": 22,
   "id": "af961441-f188-43e6-b56b-beae2542fa61",
   "metadata": {},
   "outputs": [
    {
     "data": {
      "text/plain": [
       "User_ID                            0\n",
       "Product_ID                         0\n",
       "Gender                             0\n",
       "Age                                0\n",
       "Occupation                         0\n",
       "City_Category                      0\n",
       "Stay_In_Current_City_Years         0\n",
       "Marital_Status                     0\n",
       "Product_Category_1                 0\n",
       "Product_Category_2            173638\n",
       "Product_Category_3            383247\n",
       "Purchase                           0\n",
       "dtype: int64"
      ]
     },
     "execution_count": 22,
     "metadata": {},
     "output_type": "execute_result"
    }
   ],
   "source": [
    "df.isnull().sum()"
   ]
  },
  {
   "cell_type": "code",
   "execution_count": 23,
   "id": "48593988-9eea-4cec-9ddc-948e69ceb1c2",
   "metadata": {},
   "outputs": [],
   "source": [
    "# syntax for filling null values of Product_Category_2 by x\n",
    "###  df['Product_Category_2'].fillna(x)"
   ]
  },
  {
   "cell_type": "code",
   "execution_count": 24,
   "id": "a2b1b060-1619-4693-89bc-51d69428ca31",
   "metadata": {},
   "outputs": [],
   "source": [
    "# df['Product_Category_2'].fillna(x)"
   ]
  },
  {
   "cell_type": "code",
   "execution_count": 25,
   "id": "35dc3c1a-7eca-420a-a597-b4fb6ceaff56",
   "metadata": {},
   "outputs": [
    {
     "data": {
      "text/plain": [
       "9.842329251122386"
      ]
     },
     "execution_count": 25,
     "metadata": {},
     "output_type": "execute_result"
    }
   ],
   "source": [
    "df['Product_Category_2'].mean()"
   ]
  },
  {
   "cell_type": "code",
   "execution_count": 26,
   "id": "056eb0d8-3603-44de-adb0-f0eb38a695bd",
   "metadata": {},
   "outputs": [
    {
     "data": {
      "text/plain": [
       "9.0"
      ]
     },
     "execution_count": 26,
     "metadata": {},
     "output_type": "execute_result"
    }
   ],
   "source": [
    "df['Product_Category_2'].median()"
   ]
  },
  {
   "cell_type": "code",
   "execution_count": 27,
   "id": "a4a26de6-6397-4087-bb55-ff44adf9947b",
   "metadata": {},
   "outputs": [],
   "source": [
    "# both are close enough go with median.."
   ]
  },
  {
   "cell_type": "code",
   "execution_count": 28,
   "id": "acbf19ea-b6ee-4561-a719-000bb0a4d8f3",
   "metadata": {},
   "outputs": [],
   "source": [
    "x = df['Product_Category_2'].median()"
   ]
  },
  {
   "cell_type": "code",
   "execution_count": 29,
   "id": "d2e3e3d2-e45c-449f-8623-11628b5283c2",
   "metadata": {},
   "outputs": [],
   "source": [
    "df['Product_Category_2'].fillna(x , inplace = True)"
   ]
  },
  {
   "cell_type": "code",
   "execution_count": 30,
   "id": "03e76935-6adc-4f35-9312-761919289d0f",
   "metadata": {},
   "outputs": [
    {
     "data": {
      "text/plain": [
       "0"
      ]
     },
     "execution_count": 30,
     "metadata": {},
     "output_type": "execute_result"
    }
   ],
   "source": [
    "df['Product_Category_2'].isnull().sum()"
   ]
  },
  {
   "cell_type": "code",
   "execution_count": 31,
   "id": "904d7eab-691a-425b-8def-64f6c86e0f61",
   "metadata": {},
   "outputs": [
    {
     "data": {
      "text/plain": [
       "9.576434186318782"
      ]
     },
     "execution_count": 31,
     "metadata": {},
     "output_type": "execute_result"
    }
   ],
   "source": [
    "df['Product_Category_2'].mean() # mean get effected as values get filled up."
   ]
  },
  {
   "cell_type": "code",
   "execution_count": 32,
   "id": "c3802888-015e-4617-9eae-da766355e9ce",
   "metadata": {},
   "outputs": [
    {
     "data": {
      "text/plain": [
       "count    550068.000000\n",
       "mean          9.576434\n",
       "std           4.226025\n",
       "min           2.000000\n",
       "25%           8.000000\n",
       "50%           9.000000\n",
       "75%          14.000000\n",
       "max          18.000000\n",
       "Name: Product_Category_2, dtype: float64"
      ]
     },
     "execution_count": 32,
     "metadata": {},
     "output_type": "execute_result"
    }
   ],
   "source": [
    "df['Product_Category_2'].describe()"
   ]
  },
  {
   "cell_type": "code",
   "execution_count": 33,
   "id": "d922e16c-6e55-41ae-8e3d-486d01219381",
   "metadata": {},
   "outputs": [],
   "source": [
    "y = df['Product_Category_3'].median()"
   ]
  },
  {
   "cell_type": "code",
   "execution_count": 34,
   "id": "958088bc-4860-4f3c-89c3-af2d6d442736",
   "metadata": {},
   "outputs": [
    {
     "data": {
      "text/plain": [
       "12.668243206790512"
      ]
     },
     "execution_count": 34,
     "metadata": {},
     "output_type": "execute_result"
    }
   ],
   "source": [
    "df['Product_Category_3'].mean()"
   ]
  },
  {
   "cell_type": "code",
   "execution_count": 35,
   "id": "2e41e1e4-96fe-45ed-b192-39646be1273f",
   "metadata": {},
   "outputs": [],
   "source": [
    "df['Product_Category_3'].fillna(y , inplace = True)"
   ]
  },
  {
   "cell_type": "code",
   "execution_count": 36,
   "id": "69dd55c4-3fe1-41fc-bddc-7b3cc3b8cbe2",
   "metadata": {},
   "outputs": [
    {
     "data": {
      "text/plain": [
       "User_ID                       0\n",
       "Product_ID                    0\n",
       "Gender                        0\n",
       "Age                           0\n",
       "Occupation                    0\n",
       "City_Category                 0\n",
       "Stay_In_Current_City_Years    0\n",
       "Marital_Status                0\n",
       "Product_Category_1            0\n",
       "Product_Category_2            0\n",
       "Product_Category_3            0\n",
       "Purchase                      0\n",
       "dtype: int64"
      ]
     },
     "execution_count": 36,
     "metadata": {},
     "output_type": "execute_result"
    }
   ],
   "source": [
    "df.isnull().sum()"
   ]
  },
  {
   "cell_type": "markdown",
   "id": "d674ad93-fecb-4cbf-a115-946f25f7c72b",
   "metadata": {},
   "source": [
    "#### Hence all null values get filled up"
   ]
  },
  {
   "cell_type": "code",
   "execution_count": 37,
   "id": "fa6f0779-1b74-4a50-a99f-f85dca98812a",
   "metadata": {},
   "outputs": [],
   "source": [
    "# to check for duplicate rows "
   ]
  },
  {
   "cell_type": "code",
   "execution_count": 38,
   "id": "135d1e78-51dc-423d-a3c2-7e17d7bec78a",
   "metadata": {},
   "outputs": [
    {
     "data": {
      "text/plain": [
       "0         False\n",
       "1         False\n",
       "2         False\n",
       "3         False\n",
       "4         False\n",
       "          ...  \n",
       "550063    False\n",
       "550064    False\n",
       "550065    False\n",
       "550066    False\n",
       "550067    False\n",
       "Length: 550068, dtype: bool"
      ]
     },
     "execution_count": 38,
     "metadata": {},
     "output_type": "execute_result"
    }
   ],
   "source": [
    "df.duplicated() # to check duplicate rows , to check whetehr a single data is not repeating or NOT."
   ]
  },
  {
   "cell_type": "code",
   "execution_count": 39,
   "id": "64f0947e-b40a-49d4-819c-bd8a3c227a58",
   "metadata": {},
   "outputs": [],
   "source": [
    "## no row is repeating here."
   ]
  },
  {
   "cell_type": "code",
   "execution_count": 40,
   "id": "ebdc2186-19b4-47c7-8949-4c2efca98981",
   "metadata": {},
   "outputs": [
    {
     "data": {
      "text/plain": [
       "0"
      ]
     },
     "execution_count": 40,
     "metadata": {},
     "output_type": "execute_result"
    }
   ],
   "source": [
    "df.duplicated().sum()  "
   ]
  },
  {
   "cell_type": "code",
   "execution_count": 41,
   "id": "20017a5e-1b0f-4cc7-8716-7df5905ab962",
   "metadata": {},
   "outputs": [],
   "source": [
    "# if there are duplicate rows then drop them by syntax \n",
    "# SYNTAX   ------    df.drop_duplicates()  "
   ]
  },
  {
   "cell_type": "code",
   "execution_count": 42,
   "id": "a2460200-7294-4af8-8a20-5df03e4659c2",
   "metadata": {},
   "outputs": [
    {
     "name": "stdout",
     "output_type": "stream",
     "text": [
      "(550068, 12)\n",
      "6600816\n",
      "2\n"
     ]
    }
   ],
   "source": [
    "print(df.shape)\n",
    "print(df.size)\n",
    "print(df.ndim)"
   ]
  },
  {
   "cell_type": "code",
   "execution_count": 43,
   "id": "1b8f114a-d440-4afc-8a48-7290e273b7d5",
   "metadata": {},
   "outputs": [
    {
     "data": {
      "text/plain": [
       "User_ID                         int64\n",
       "Product_ID                     object\n",
       "Gender                         object\n",
       "Age                            object\n",
       "Occupation                      int64\n",
       "City_Category                  object\n",
       "Stay_In_Current_City_Years     object\n",
       "Marital_Status                  int64\n",
       "Product_Category_1              int64\n",
       "Product_Category_2            float64\n",
       "Product_Category_3            float64\n",
       "Purchase                        int64\n",
       "dtype: object"
      ]
     },
     "execution_count": 43,
     "metadata": {},
     "output_type": "execute_result"
    }
   ],
   "source": [
    "df.dtypes  # gives the type of all the columns..."
   ]
  },
  {
   "cell_type": "code",
   "execution_count": 44,
   "id": "f122e580-0149-49e0-a60a-76f6410d4cfd",
   "metadata": {},
   "outputs": [],
   "source": [
    "#1 any mathematical operations or statistical tool can't by applied on categorical data.\n",
    "#2  SO for better undrstanding or better analysis we have to change object to int or float.\n",
    "#3 by Encoding."
   ]
  },
  {
   "cell_type": "code",
   "execution_count": 45,
   "id": "b9f38284-cc53-432c-bdde-5b7e1417cfc9",
   "metadata": {},
   "outputs": [
    {
     "data": {
      "text/plain": [
       "array(['P00069042', 'P00248942', 'P00087842', ..., 'P00370293',\n",
       "       'P00371644', 'P00370853'], dtype=object)"
      ]
     },
     "execution_count": 45,
     "metadata": {},
     "output_type": "execute_result"
    }
   ],
   "source": [
    "## to find unique values in column\n",
    "df['Product_ID'].unique()"
   ]
  },
  {
   "cell_type": "code",
   "execution_count": 46,
   "id": "e6ec5636-f6b8-499b-b884-960c555c90f8",
   "metadata": {},
   "outputs": [
    {
     "data": {
      "text/plain": [
       "3631"
      ]
     },
     "execution_count": 46,
     "metadata": {},
     "output_type": "execute_result"
    }
   ],
   "source": [
    "df['Product_ID'].nunique()  # for number of unique values in Product_ID column."
   ]
  },
  {
   "cell_type": "code",
   "execution_count": 47,
   "id": "90529575-f9b6-40b8-b762-b076869585cf",
   "metadata": {},
   "outputs": [
    {
     "data": {
      "text/plain": [
       "array(['F', 'M'], dtype=object)"
      ]
     },
     "execution_count": 47,
     "metadata": {},
     "output_type": "execute_result"
    }
   ],
   "source": [
    "df['Gender'].unique()"
   ]
  },
  {
   "cell_type": "code",
   "execution_count": 48,
   "id": "a288b1ac-4f21-4d93-9420-223cd163cbcf",
   "metadata": {},
   "outputs": [
    {
     "data": {
      "text/plain": [
       "2"
      ]
     },
     "execution_count": 48,
     "metadata": {},
     "output_type": "execute_result"
    }
   ],
   "source": [
    "df['Gender'].nunique()"
   ]
  },
  {
   "cell_type": "code",
   "execution_count": 49,
   "id": "4b57a4f8-5ed4-4046-89f9-06dc0b9d2257",
   "metadata": {},
   "outputs": [
    {
     "data": {
      "text/plain": [
       "Gender\n",
       "M    414259\n",
       "F    135809\n",
       "Name: count, dtype: int64"
      ]
     },
     "execution_count": 49,
     "metadata": {},
     "output_type": "execute_result"
    }
   ],
   "source": [
    "df['Gender'].value_counts()  # count the repitation of each uinque entry in column."
   ]
  },
  {
   "cell_type": "code",
   "execution_count": 50,
   "id": "f840fbb5-f653-409e-9cdd-0e8f6fdb139a",
   "metadata": {},
   "outputs": [
    {
     "data": {
      "text/plain": [
       "Product_ID\n",
       "P00265242    1880\n",
       "P00025442    1615\n",
       "P00110742    1612\n",
       "P00112142    1562\n",
       "P00057642    1470\n",
       "             ... \n",
       "P00314842       1\n",
       "P00298842       1\n",
       "P00231642       1\n",
       "P00204442       1\n",
       "P00066342       1\n",
       "Name: count, Length: 3631, dtype: int64"
      ]
     },
     "execution_count": 50,
     "metadata": {},
     "output_type": "execute_result"
    }
   ],
   "source": [
    "df['Product_ID'].value_counts()"
   ]
  },
  {
   "cell_type": "code",
   "execution_count": 51,
   "id": "9846c24a-bd2a-4d4a-8d45-c78ba329d588",
   "metadata": {},
   "outputs": [
    {
     "data": {
      "text/plain": [
       "550068"
      ]
     },
     "execution_count": 51,
     "metadata": {},
     "output_type": "execute_result"
    }
   ],
   "source": [
    "df['Product_ID'].count()  # find the totoal strength of column."
   ]
  },
  {
   "cell_type": "code",
   "execution_count": 52,
   "id": "9d4b57c6-0241-4230-997e-73fcca08c97a",
   "metadata": {},
   "outputs": [
    {
     "data": {
      "text/plain": [
       "Age\n",
       "26-35    219587\n",
       "36-45    110013\n",
       "18-25     99660\n",
       "46-50     45701\n",
       "51-55     38501\n",
       "55+       21504\n",
       "0-17      15102\n",
       "Name: count, dtype: int64"
      ]
     },
     "execution_count": 52,
     "metadata": {},
     "output_type": "execute_result"
    }
   ],
   "source": [
    "df['Age'].value_counts()"
   ]
  },
  {
   "cell_type": "code",
   "execution_count": 53,
   "id": "60f8b1ec-a61c-43a2-af5d-82601ff62796",
   "metadata": {},
   "outputs": [
    {
     "data": {
      "text/plain": [
       "0    0-17\n",
       "1    0-17\n",
       "2    0-17\n",
       "3    0-17\n",
       "4     55+\n",
       "Name: Age, dtype: object"
      ]
     },
     "execution_count": 53,
     "metadata": {},
     "output_type": "execute_result"
    }
   ],
   "source": [
    "df['Age'].head()"
   ]
  },
  {
   "cell_type": "markdown",
   "id": "1a4f7433-adc7-4716-bbe3-e9a766dce48a",
   "metadata": {},
   "source": [
    "# LABEL ENCODING\n",
    "\n",
    "convert object datatype into numeric datatype"
   ]
  },
  {
   "cell_type": "code",
   "execution_count": 54,
   "id": "050f0735-016b-4d9e-bb00-2d5f58d6cb40",
   "metadata": {},
   "outputs": [],
   "source": [
    "from sklearn.preprocessing import LabelEncoder"
   ]
  },
  {
   "cell_type": "code",
   "execution_count": 55,
   "id": "f6834cee-7fb8-46cd-8023-20b8bac3fc12",
   "metadata": {},
   "outputs": [],
   "source": [
    "le = LabelEncoder()"
   ]
  },
  {
   "cell_type": "code",
   "execution_count": 56,
   "id": "a9322e2f-4b8a-4e96-a10c-68eb2e465449",
   "metadata": {},
   "outputs": [
    {
     "data": {
      "text/plain": [
       "User_ID                         int64\n",
       "Product_ID                     object\n",
       "Gender                         object\n",
       "Age                            object\n",
       "Occupation                      int64\n",
       "City_Category                  object\n",
       "Stay_In_Current_City_Years     object\n",
       "Marital_Status                  int64\n",
       "Product_Category_1              int64\n",
       "Product_Category_2            float64\n",
       "Product_Category_3            float64\n",
       "Purchase                        int64\n",
       "dtype: object"
      ]
     },
     "execution_count": 56,
     "metadata": {},
     "output_type": "execute_result"
    }
   ],
   "source": [
    "df.dtypes"
   ]
  },
  {
   "cell_type": "code",
   "execution_count": 57,
   "id": "59c6eccb-1345-4a45-b8a6-3f5a842beb9b",
   "metadata": {},
   "outputs": [
    {
     "data": {
      "text/plain": [
       "0    F\n",
       "1    F\n",
       "2    F\n",
       "3    F\n",
       "4    M\n",
       "Name: Gender, dtype: object"
      ]
     },
     "execution_count": 57,
     "metadata": {},
     "output_type": "execute_result"
    }
   ],
   "source": [
    "df['Gender'].head()  # F is first so F = 0"
   ]
  },
  {
   "cell_type": "code",
   "execution_count": 58,
   "id": "4fc54642-abb7-4f28-8416-808da23c7a3a",
   "metadata": {},
   "outputs": [],
   "source": [
    "df['Gender'] = le.fit_transform(df['Gender'])"
   ]
  },
  {
   "cell_type": "code",
   "execution_count": 59,
   "id": "c464555a-cdfa-49bb-aaf1-2a2d47082634",
   "metadata": {},
   "outputs": [
    {
     "data": {
      "text/plain": [
       "Gender\n",
       "1    414259\n",
       "0    135809\n",
       "Name: count, dtype: int64"
      ]
     },
     "execution_count": 59,
     "metadata": {},
     "output_type": "execute_result"
    }
   ],
   "source": [
    "df['Gender'].value_counts()"
   ]
  },
  {
   "cell_type": "code",
   "execution_count": 60,
   "id": "4f28466f-0575-43a9-bd21-857fed8e76a8",
   "metadata": {},
   "outputs": [],
   "source": [
    "# similarly for all "
   ]
  },
  {
   "cell_type": "code",
   "execution_count": 61,
   "id": "d4493603-817e-43a8-90e5-4afc3498b4fe",
   "metadata": {},
   "outputs": [],
   "source": [
    "df['Product_ID'] = le.fit_transform(df['Product_ID'])\n",
    "df['Age'] = le.fit_transform(df['Age'])\n",
    "df['City_Category'] = le.fit_transform(df['City_Category'])\n",
    "df['Stay_In_Current_City_Years'] = le.fit_transform(df['Stay_In_Current_City_Years'])"
   ]
  },
  {
   "cell_type": "code",
   "execution_count": 62,
   "id": "a02d42c6-56fb-4420-bd21-fc69e858a7c2",
   "metadata": {},
   "outputs": [
    {
     "data": {
      "text/plain": [
       "Age\n",
       "2    219587\n",
       "3    110013\n",
       "1     99660\n",
       "4     45701\n",
       "5     38501\n",
       "6     21504\n",
       "0     15102\n",
       "Name: count, dtype: int64"
      ]
     },
     "execution_count": 62,
     "metadata": {},
     "output_type": "execute_result"
    }
   ],
   "source": [
    "df['Age'].value_counts()"
   ]
  },
  {
   "cell_type": "code",
   "execution_count": 63,
   "id": "e0506c55-771f-4117-a4f0-f780088483f7",
   "metadata": {},
   "outputs": [],
   "source": [
    "# ALL CATEGORICAL DATA CHANGE TO Numeric"
   ]
  },
  {
   "cell_type": "code",
   "execution_count": 64,
   "id": "697e2c2d-1535-415e-b0dc-affdb98cfc57",
   "metadata": {},
   "outputs": [
    {
     "name": "stdout",
     "output_type": "stream",
     "text": [
      "<class 'pandas.core.frame.DataFrame'>\n",
      "RangeIndex: 550068 entries, 0 to 550067\n",
      "Data columns (total 12 columns):\n",
      " #   Column                      Non-Null Count   Dtype  \n",
      "---  ------                      --------------   -----  \n",
      " 0   User_ID                     550068 non-null  int64  \n",
      " 1   Product_ID                  550068 non-null  int32  \n",
      " 2   Gender                      550068 non-null  int32  \n",
      " 3   Age                         550068 non-null  int32  \n",
      " 4   Occupation                  550068 non-null  int64  \n",
      " 5   City_Category               550068 non-null  int32  \n",
      " 6   Stay_In_Current_City_Years  550068 non-null  int32  \n",
      " 7   Marital_Status              550068 non-null  int64  \n",
      " 8   Product_Category_1          550068 non-null  int64  \n",
      " 9   Product_Category_2          550068 non-null  float64\n",
      " 10  Product_Category_3          550068 non-null  float64\n",
      " 11  Purchase                    550068 non-null  int64  \n",
      "dtypes: float64(2), int32(5), int64(5)\n",
      "memory usage: 39.9 MB\n"
     ]
    }
   ],
   "source": [
    "df.info()"
   ]
  },
  {
   "cell_type": "code",
   "execution_count": 65,
   "id": "adf0eb03-9fd2-40de-b6ab-993df1a07014",
   "metadata": {},
   "outputs": [
    {
     "data": {
      "text/plain": [
       "array([2, 4, 3, 1, 0])"
      ]
     },
     "execution_count": 65,
     "metadata": {},
     "output_type": "execute_result"
    }
   ],
   "source": [
    "df['Stay_In_Current_City_Years'].unique()"
   ]
  },
  {
   "cell_type": "code",
   "execution_count": 66,
   "id": "97cd08ef-2135-48eb-9618-536908fea4bb",
   "metadata": {},
   "outputs": [],
   "source": [
    "# if want to change anything with somethig use### .replace(any , some)"
   ]
  },
  {
   "cell_type": "code",
   "execution_count": 67,
   "id": "48b76a26-6fde-4424-9f98-6393faf14f80",
   "metadata": {},
   "outputs": [
    {
     "data": {
      "text/plain": [
       "0    0\n",
       "1    0\n",
       "2    0\n",
       "3    0\n",
       "4    6\n",
       "Name: Age, dtype: int32"
      ]
     },
     "execution_count": 67,
     "metadata": {},
     "output_type": "execute_result"
    }
   ],
   "source": [
    "df['Age'].head()"
   ]
  },
  {
   "cell_type": "code",
   "execution_count": 68,
   "id": "58ff1fa0-75ca-4f71-a132-0b04bd6262d4",
   "metadata": {},
   "outputs": [
    {
     "data": {
      "text/plain": [
       "0    False\n",
       "1    False\n",
       "2    False\n",
       "3    False\n",
       "4    False\n",
       "Name: Age, dtype: bool"
      ]
     },
     "execution_count": 68,
     "metadata": {},
     "output_type": "execute_result"
    }
   ],
   "source": [
    "df['Age'].head() == 2"
   ]
  },
  {
   "cell_type": "code",
   "execution_count": 69,
   "id": "292d2a62-d480-4ec7-8ff2-6d59135caee6",
   "metadata": {},
   "outputs": [],
   "source": [
    "## will give true only for 2."
   ]
  },
  {
   "cell_type": "code",
   "execution_count": 70,
   "id": "1c2dd619-fa7c-4480-bb2e-7aa841236778",
   "metadata": {},
   "outputs": [
    {
     "data": {
      "text/plain": [
       "0     True\n",
       "1     True\n",
       "2     True\n",
       "3     True\n",
       "4    False\n",
       "Name: Age, dtype: bool"
      ]
     },
     "execution_count": 70,
     "metadata": {},
     "output_type": "execute_result"
    }
   ],
   "source": [
    "df['Age'].head() == 0"
   ]
  },
  {
   "cell_type": "markdown",
   "id": "cc75ae34-90ea-413c-9b2a-64dbbbaff752",
   "metadata": {},
   "source": [
    "# Statistical Analysis"
   ]
  },
  {
   "cell_type": "markdown",
   "id": "162354bb-5fea-42f7-8542-691ef19b1bfe",
   "metadata": {},
   "source": [
    "# ONE SAMPLE TEST"
   ]
  },
  {
   "cell_type": "markdown",
   "id": "e7601266-14ce-4228-969a-cc1b6fd74993",
   "metadata": {},
   "source": [
    "was observed the average purchase made by men of age 18-25 was 10000 , is it still same?"
   ]
  },
  {
   "cell_type": "code",
   "execution_count": 71,
   "id": "cde8c1ed-13d9-41c7-a30f-3a6397d6404f",
   "metadata": {},
   "outputs": [],
   "source": [
    "# Null hypothesis(Ho) is new_ average is still 10000\n",
    "\n",
    "# Alternate Hypothesis(Ha) for new_ is average changed not equal to 10000."
   ]
  },
  {
   "cell_type": "code",
   "execution_count": 107,
   "id": "a534cf77-e4cc-4337-acd5-2b1afbbf6b45",
   "metadata": {},
   "outputs": [],
   "source": [
    "new_ = df.loc[(df[\"Age\"]==1)&(df[\"Gender\"]==1)]"
   ]
  },
  {
   "cell_type": "code",
   "execution_count": 108,
   "id": "465f6e3c-1ca7-4b30-9bdd-e622401a1f5b",
   "metadata": {},
   "outputs": [
    {
     "data": {
      "text/html": [
       "<div>\n",
       "<style scoped>\n",
       "    .dataframe tbody tr th:only-of-type {\n",
       "        vertical-align: middle;\n",
       "    }\n",
       "\n",
       "    .dataframe tbody tr th {\n",
       "        vertical-align: top;\n",
       "    }\n",
       "\n",
       "    .dataframe thead th {\n",
       "        text-align: right;\n",
       "    }\n",
       "</style>\n",
       "<table border=\"1\" class=\"dataframe\">\n",
       "  <thead>\n",
       "    <tr style=\"text-align: right;\">\n",
       "      <th></th>\n",
       "      <th>User_ID</th>\n",
       "      <th>Product_ID</th>\n",
       "      <th>Gender</th>\n",
       "      <th>Age</th>\n",
       "      <th>Occupation</th>\n",
       "      <th>City_Category</th>\n",
       "      <th>Stay_In_Current_City_Years</th>\n",
       "      <th>Marital_Status</th>\n",
       "      <th>Product_Category_1</th>\n",
       "      <th>Product_Category_2</th>\n",
       "      <th>Product_Category_3</th>\n",
       "      <th>Purchase</th>\n",
       "    </tr>\n",
       "  </thead>\n",
       "  <tbody>\n",
       "    <tr>\n",
       "      <th>97</th>\n",
       "      <td>1000021</td>\n",
       "      <td>2094</td>\n",
       "      <td>1</td>\n",
       "      <td>1</td>\n",
       "      <td>16</td>\n",
       "      <td>1</td>\n",
       "      <td>0</td>\n",
       "      <td>0</td>\n",
       "      <td>3</td>\n",
       "      <td>12.0</td>\n",
       "      <td>14.0</td>\n",
       "      <td>3055</td>\n",
       "    </tr>\n",
       "    <tr>\n",
       "      <th>98</th>\n",
       "      <td>1000022</td>\n",
       "      <td>3370</td>\n",
       "      <td>1</td>\n",
       "      <td>1</td>\n",
       "      <td>15</td>\n",
       "      <td>0</td>\n",
       "      <td>4</td>\n",
       "      <td>0</td>\n",
       "      <td>1</td>\n",
       "      <td>8.0</td>\n",
       "      <td>17.0</td>\n",
       "      <td>12099</td>\n",
       "    </tr>\n",
       "    <tr>\n",
       "      <th>99</th>\n",
       "      <td>1000022</td>\n",
       "      <td>2024</td>\n",
       "      <td>1</td>\n",
       "      <td>1</td>\n",
       "      <td>15</td>\n",
       "      <td>0</td>\n",
       "      <td>4</td>\n",
       "      <td>0</td>\n",
       "      <td>5</td>\n",
       "      <td>8.0</td>\n",
       "      <td>14.0</td>\n",
       "      <td>8797</td>\n",
       "    </tr>\n",
       "    <tr>\n",
       "      <th>100</th>\n",
       "      <td>1000022</td>\n",
       "      <td>1855</td>\n",
       "      <td>1</td>\n",
       "      <td>1</td>\n",
       "      <td>15</td>\n",
       "      <td>0</td>\n",
       "      <td>4</td>\n",
       "      <td>0</td>\n",
       "      <td>3</td>\n",
       "      <td>4.0</td>\n",
       "      <td>14.0</td>\n",
       "      <td>10681</td>\n",
       "    </tr>\n",
       "    <tr>\n",
       "      <th>101</th>\n",
       "      <td>1000022</td>\n",
       "      <td>1065</td>\n",
       "      <td>1</td>\n",
       "      <td>1</td>\n",
       "      <td>15</td>\n",
       "      <td>0</td>\n",
       "      <td>4</td>\n",
       "      <td>0</td>\n",
       "      <td>8</td>\n",
       "      <td>14.0</td>\n",
       "      <td>14.0</td>\n",
       "      <td>7801</td>\n",
       "    </tr>\n",
       "    <tr>\n",
       "      <th>...</th>\n",
       "      <td>...</td>\n",
       "      <td>...</td>\n",
       "      <td>...</td>\n",
       "      <td>...</td>\n",
       "      <td>...</td>\n",
       "      <td>...</td>\n",
       "      <td>...</td>\n",
       "      <td>...</td>\n",
       "      <td>...</td>\n",
       "      <td>...</td>\n",
       "      <td>...</td>\n",
       "      <td>...</td>\n",
       "    </tr>\n",
       "    <tr>\n",
       "      <th>549996</th>\n",
       "      <td>1005932</td>\n",
       "      <td>3566</td>\n",
       "      <td>1</td>\n",
       "      <td>1</td>\n",
       "      <td>14</td>\n",
       "      <td>2</td>\n",
       "      <td>3</td>\n",
       "      <td>0</td>\n",
       "      <td>20</td>\n",
       "      <td>9.0</td>\n",
       "      <td>14.0</td>\n",
       "      <td>131</td>\n",
       "    </tr>\n",
       "    <tr>\n",
       "      <th>549999</th>\n",
       "      <td>1005935</td>\n",
       "      <td>3567</td>\n",
       "      <td>1</td>\n",
       "      <td>1</td>\n",
       "      <td>0</td>\n",
       "      <td>2</td>\n",
       "      <td>1</td>\n",
       "      <td>0</td>\n",
       "      <td>20</td>\n",
       "      <td>9.0</td>\n",
       "      <td>14.0</td>\n",
       "      <td>368</td>\n",
       "    </tr>\n",
       "    <tr>\n",
       "      <th>550000</th>\n",
       "      <td>1005936</td>\n",
       "      <td>3560</td>\n",
       "      <td>1</td>\n",
       "      <td>1</td>\n",
       "      <td>4</td>\n",
       "      <td>2</td>\n",
       "      <td>4</td>\n",
       "      <td>0</td>\n",
       "      <td>19</td>\n",
       "      <td>9.0</td>\n",
       "      <td>14.0</td>\n",
       "      <td>14</td>\n",
       "    </tr>\n",
       "    <tr>\n",
       "      <th>550015</th>\n",
       "      <td>1005957</td>\n",
       "      <td>3567</td>\n",
       "      <td>1</td>\n",
       "      <td>1</td>\n",
       "      <td>20</td>\n",
       "      <td>1</td>\n",
       "      <td>1</td>\n",
       "      <td>1</td>\n",
       "      <td>20</td>\n",
       "      <td>9.0</td>\n",
       "      <td>14.0</td>\n",
       "      <td>477</td>\n",
       "    </tr>\n",
       "    <tr>\n",
       "      <th>550020</th>\n",
       "      <td>1005964</td>\n",
       "      <td>3560</td>\n",
       "      <td>1</td>\n",
       "      <td>1</td>\n",
       "      <td>5</td>\n",
       "      <td>1</td>\n",
       "      <td>1</td>\n",
       "      <td>0</td>\n",
       "      <td>19</td>\n",
       "      <td>9.0</td>\n",
       "      <td>14.0</td>\n",
       "      <td>36</td>\n",
       "    </tr>\n",
       "  </tbody>\n",
       "</table>\n",
       "<p>75032 rows × 12 columns</p>\n",
       "</div>"
      ],
      "text/plain": [
       "        User_ID  Product_ID  Gender  Age  Occupation  City_Category  \\\n",
       "97      1000021        2094       1    1          16              1   \n",
       "98      1000022        3370       1    1          15              0   \n",
       "99      1000022        2024       1    1          15              0   \n",
       "100     1000022        1855       1    1          15              0   \n",
       "101     1000022        1065       1    1          15              0   \n",
       "...         ...         ...     ...  ...         ...            ...   \n",
       "549996  1005932        3566       1    1          14              2   \n",
       "549999  1005935        3567       1    1           0              2   \n",
       "550000  1005936        3560       1    1           4              2   \n",
       "550015  1005957        3567       1    1          20              1   \n",
       "550020  1005964        3560       1    1           5              1   \n",
       "\n",
       "        Stay_In_Current_City_Years  Marital_Status  Product_Category_1  \\\n",
       "97                               0               0                   3   \n",
       "98                               4               0                   1   \n",
       "99                               4               0                   5   \n",
       "100                              4               0                   3   \n",
       "101                              4               0                   8   \n",
       "...                            ...             ...                 ...   \n",
       "549996                           3               0                  20   \n",
       "549999                           1               0                  20   \n",
       "550000                           4               0                  19   \n",
       "550015                           1               1                  20   \n",
       "550020                           1               0                  19   \n",
       "\n",
       "        Product_Category_2  Product_Category_3  Purchase  \n",
       "97                    12.0                14.0      3055  \n",
       "98                     8.0                17.0     12099  \n",
       "99                     8.0                14.0      8797  \n",
       "100                    4.0                14.0     10681  \n",
       "101                   14.0                14.0      7801  \n",
       "...                    ...                 ...       ...  \n",
       "549996                 9.0                14.0       131  \n",
       "549999                 9.0                14.0       368  \n",
       "550000                 9.0                14.0        14  \n",
       "550015                 9.0                14.0       477  \n",
       "550020                 9.0                14.0        36  \n",
       "\n",
       "[75032 rows x 12 columns]"
      ]
     },
     "execution_count": 108,
     "metadata": {},
     "output_type": "execute_result"
    }
   ],
   "source": [
    "new_"
   ]
  },
  {
   "cell_type": "code",
   "execution_count": 109,
   "id": "c87af89c-473e-4417-a306-16b36fd5f2bb",
   "metadata": {},
   "outputs": [
    {
     "data": {
      "text/plain": [
       "(75032, 12)"
      ]
     },
     "execution_count": 109,
     "metadata": {},
     "output_type": "execute_result"
    }
   ],
   "source": [
    "new_.shape"
   ]
  },
  {
   "cell_type": "code",
   "execution_count": 110,
   "id": "653462a6-b759-4ae3-b6ab-4f6425eccbb3",
   "metadata": {},
   "outputs": [],
   "source": [
    "# here taking 30 sample size is not representating of new_."
   ]
  },
  {
   "cell_type": "markdown",
   "id": "dcdef307-0bc6-4bac-b96f-b9ac93106d01",
   "metadata": {},
   "source": [
    "## will took random sample from new_."
   ]
  },
  {
   "cell_type": "code",
   "execution_count": 111,
   "id": "4fc3cf9e-681b-408c-a4c1-1033ba2ba4f3",
   "metadata": {},
   "outputs": [],
   "source": [
    "## rule is for 30 sample size but we will took 10% of total data.\n",
    "\n",
    "sample_size = 7503"
   ]
  },
  {
   "cell_type": "code",
   "execution_count": 112,
   "id": "01ad5265-4afd-4a06-956c-6214dfce1b0f",
   "metadata": {},
   "outputs": [],
   "source": [
    "# for select Normal data we took  np.random.normal\n",
    "\n",
    "# for random sample selection of sample_size,use    data.sample(size , sample_selection))"
   ]
  },
  {
   "cell_type": "code",
   "execution_count": 113,
   "id": "4c34a856-91f2-4567-bcb3-a7dbfc623dff",
   "metadata": {},
   "outputs": [],
   "source": [
    "sample = new_.sample(sample_size , random_state = 10)"
   ]
  },
  {
   "cell_type": "code",
   "execution_count": 114,
   "id": "99c5f983-5a45-4f23-852e-68d73a1fe69e",
   "metadata": {},
   "outputs": [
    {
     "data": {
      "text/plain": [
       "(7503, 12)"
      ]
     },
     "execution_count": 114,
     "metadata": {},
     "output_type": "execute_result"
    }
   ],
   "source": [
    "sample.shape"
   ]
  },
  {
   "cell_type": "code",
   "execution_count": 115,
   "id": "8a09bd61-10bd-4380-929a-49110ca47298",
   "metadata": {},
   "outputs": [],
   "source": [
    "# we know that we can use T-Test for sample size < 30 \n",
    "# thing missing is T-Test work better over <30 , it can be used on any sample size"
   ]
  },
  {
   "cell_type": "markdown",
   "id": "c95a3b32-45ba-431f-87d8-f8f4147e21c7",
   "metadata": {},
   "source": [
    "# T-TEST"
   ]
  },
  {
   "cell_type": "code",
   "execution_count": 116,
   "id": "539aa555-64d2-447e-9d41-239daef7f30f",
   "metadata": {},
   "outputs": [],
   "source": [
    "from scipy.stats import ttest_1samp"
   ]
  },
  {
   "cell_type": "code",
   "execution_count": 117,
   "id": "202e752a-58c0-47da-b032-1b1ae76375c4",
   "metadata": {},
   "outputs": [
    {
     "name": "stdout",
     "output_type": "stream",
     "text": [
      "Ho get rejected\n"
     ]
    }
   ],
   "source": [
    "# syntax ( ttest_1samp(column_of_sample , population_mean))\n",
    "t_stats , p_value = ttest_1samp(sample['Purchase'] , 10000)\n",
    "alpha = 0.05\n",
    "if p_value < alpha :\n",
    "    print(\"Ho get rejected\")\n",
    "else:\n",
    "    print(\"fail to reject Ho\")"
   ]
  },
  {
   "cell_type": "code",
   "execution_count": 118,
   "id": "207e6380-d412-448c-ab96-cd6296050163",
   "metadata": {},
   "outputs": [],
   "source": [
    "# hence average get changed from 10000"
   ]
  },
  {
   "cell_type": "markdown",
   "id": "10051a37-6477-4e78-8f71-c4dd08837764",
   "metadata": {},
   "source": [
    "p_value - The p-value is the probability of obtaining test results at least as extreme as the ones observed, under the assumption that the null hypothesis is true"
   ]
  },
  {
   "cell_type": "markdown",
   "id": "fbd253e1-59be-4e5c-940c-1685ed34b0a4",
   "metadata": {},
   "source": [
    "# Two Sample Test"
   ]
  },
  {
   "cell_type": "markdown",
   "id": "4739501b-829f-4994-be5a-4b786c092b7c",
   "metadata": {},
   "source": [
    "Is the average purchase made by men and women of the age 18-25 is same?"
   ]
  },
  {
   "cell_type": "code",
   "execution_count": 120,
   "id": "0fde82d7-9e4d-4613-a3b9-38f65f5754a9",
   "metadata": {},
   "outputs": [],
   "source": [
    "# Null - average purchase made by men and women of the age 18-25 is same\n",
    "# alternate - average purchase made by men and women of the age 18-25 is not same"
   ]
  },
  {
   "cell_type": "code",
   "execution_count": 121,
   "id": "056af88c-f9f0-4e5b-bae1-10d741089608",
   "metadata": {},
   "outputs": [],
   "source": [
    "from scipy import stats\n",
    "data_men = df.loc[(df[\"Age\"]==1) & df[\"Gender\"]==1]   # for male\n",
    "data_women = df.loc[(df[\"Age\"]==1) & df[\"Gender\"]==0]  # for female"
   ]
  },
  {
   "cell_type": "code",
   "execution_count": 122,
   "id": "6bfaf637-0911-469d-ad7f-34d0e96e70ae",
   "metadata": {},
   "outputs": [
    {
     "data": {
      "text/html": [
       "<div>\n",
       "<style scoped>\n",
       "    .dataframe tbody tr th:only-of-type {\n",
       "        vertical-align: middle;\n",
       "    }\n",
       "\n",
       "    .dataframe tbody tr th {\n",
       "        vertical-align: top;\n",
       "    }\n",
       "\n",
       "    .dataframe thead th {\n",
       "        text-align: right;\n",
       "    }\n",
       "</style>\n",
       "<table border=\"1\" class=\"dataframe\">\n",
       "  <thead>\n",
       "    <tr style=\"text-align: right;\">\n",
       "      <th></th>\n",
       "      <th>User_ID</th>\n",
       "      <th>Product_ID</th>\n",
       "      <th>Gender</th>\n",
       "      <th>Age</th>\n",
       "      <th>Occupation</th>\n",
       "      <th>City_Category</th>\n",
       "      <th>Stay_In_Current_City_Years</th>\n",
       "      <th>Marital_Status</th>\n",
       "      <th>Product_Category_1</th>\n",
       "      <th>Product_Category_2</th>\n",
       "      <th>Product_Category_3</th>\n",
       "      <th>Purchase</th>\n",
       "    </tr>\n",
       "  </thead>\n",
       "  <tbody>\n",
       "    <tr>\n",
       "      <th>297103</th>\n",
       "      <td>1003777</td>\n",
       "      <td>3624</td>\n",
       "      <td>1</td>\n",
       "      <td>1</td>\n",
       "      <td>4</td>\n",
       "      <td>1</td>\n",
       "      <td>0</td>\n",
       "      <td>0</td>\n",
       "      <td>8</td>\n",
       "      <td>14.0</td>\n",
       "      <td>14.0</td>\n",
       "      <td>6126</td>\n",
       "    </tr>\n",
       "    <tr>\n",
       "      <th>55086</th>\n",
       "      <td>1002446</td>\n",
       "      <td>399</td>\n",
       "      <td>1</td>\n",
       "      <td>1</td>\n",
       "      <td>7</td>\n",
       "      <td>1</td>\n",
       "      <td>0</td>\n",
       "      <td>0</td>\n",
       "      <td>1</td>\n",
       "      <td>5.0</td>\n",
       "      <td>14.0</td>\n",
       "      <td>15824</td>\n",
       "    </tr>\n",
       "    <tr>\n",
       "      <th>82897</th>\n",
       "      <td>1000817</td>\n",
       "      <td>2003</td>\n",
       "      <td>1</td>\n",
       "      <td>1</td>\n",
       "      <td>4</td>\n",
       "      <td>1</td>\n",
       "      <td>2</td>\n",
       "      <td>0</td>\n",
       "      <td>5</td>\n",
       "      <td>9.0</td>\n",
       "      <td>14.0</td>\n",
       "      <td>5460</td>\n",
       "    </tr>\n",
       "    <tr>\n",
       "      <th>485492</th>\n",
       "      <td>1002837</td>\n",
       "      <td>1953</td>\n",
       "      <td>1</td>\n",
       "      <td>1</td>\n",
       "      <td>0</td>\n",
       "      <td>1</td>\n",
       "      <td>1</td>\n",
       "      <td>0</td>\n",
       "      <td>5</td>\n",
       "      <td>9.0</td>\n",
       "      <td>14.0</td>\n",
       "      <td>7135</td>\n",
       "    </tr>\n",
       "    <tr>\n",
       "      <th>127271</th>\n",
       "      <td>1001613</td>\n",
       "      <td>1434</td>\n",
       "      <td>1</td>\n",
       "      <td>1</td>\n",
       "      <td>20</td>\n",
       "      <td>0</td>\n",
       "      <td>1</td>\n",
       "      <td>0</td>\n",
       "      <td>5</td>\n",
       "      <td>9.0</td>\n",
       "      <td>14.0</td>\n",
       "      <td>3507</td>\n",
       "    </tr>\n",
       "    <tr>\n",
       "      <th>204320</th>\n",
       "      <td>1001524</td>\n",
       "      <td>2916</td>\n",
       "      <td>1</td>\n",
       "      <td>1</td>\n",
       "      <td>4</td>\n",
       "      <td>1</td>\n",
       "      <td>1</td>\n",
       "      <td>0</td>\n",
       "      <td>5</td>\n",
       "      <td>11.0</td>\n",
       "      <td>14.0</td>\n",
       "      <td>3554</td>\n",
       "    </tr>\n",
       "    <tr>\n",
       "      <th>19054</th>\n",
       "      <td>1003003</td>\n",
       "      <td>2314</td>\n",
       "      <td>1</td>\n",
       "      <td>1</td>\n",
       "      <td>15</td>\n",
       "      <td>1</td>\n",
       "      <td>3</td>\n",
       "      <td>0</td>\n",
       "      <td>1</td>\n",
       "      <td>2.0</td>\n",
       "      <td>9.0</td>\n",
       "      <td>15408</td>\n",
       "    </tr>\n",
       "    <tr>\n",
       "      <th>50405</th>\n",
       "      <td>1001702</td>\n",
       "      <td>1853</td>\n",
       "      <td>1</td>\n",
       "      <td>1</td>\n",
       "      <td>10</td>\n",
       "      <td>2</td>\n",
       "      <td>2</td>\n",
       "      <td>0</td>\n",
       "      <td>3</td>\n",
       "      <td>4.0</td>\n",
       "      <td>14.0</td>\n",
       "      <td>8066</td>\n",
       "    </tr>\n",
       "    <tr>\n",
       "      <th>479255</th>\n",
       "      <td>1001785</td>\n",
       "      <td>2925</td>\n",
       "      <td>1</td>\n",
       "      <td>1</td>\n",
       "      <td>4</td>\n",
       "      <td>1</td>\n",
       "      <td>2</td>\n",
       "      <td>0</td>\n",
       "      <td>11</td>\n",
       "      <td>13.0</td>\n",
       "      <td>16.0</td>\n",
       "      <td>4445</td>\n",
       "    </tr>\n",
       "    <tr>\n",
       "      <th>411562</th>\n",
       "      <td>1003391</td>\n",
       "      <td>3602</td>\n",
       "      <td>1</td>\n",
       "      <td>1</td>\n",
       "      <td>4</td>\n",
       "      <td>0</td>\n",
       "      <td>0</td>\n",
       "      <td>0</td>\n",
       "      <td>6</td>\n",
       "      <td>9.0</td>\n",
       "      <td>14.0</td>\n",
       "      <td>16005</td>\n",
       "    </tr>\n",
       "    <tr>\n",
       "      <th>150326</th>\n",
       "      <td>1005218</td>\n",
       "      <td>235</td>\n",
       "      <td>1</td>\n",
       "      <td>1</td>\n",
       "      <td>0</td>\n",
       "      <td>2</td>\n",
       "      <td>1</td>\n",
       "      <td>0</td>\n",
       "      <td>7</td>\n",
       "      <td>9.0</td>\n",
       "      <td>14.0</td>\n",
       "      <td>12214</td>\n",
       "    </tr>\n",
       "    <tr>\n",
       "      <th>379769</th>\n",
       "      <td>1004411</td>\n",
       "      <td>2999</td>\n",
       "      <td>1</td>\n",
       "      <td>1</td>\n",
       "      <td>4</td>\n",
       "      <td>0</td>\n",
       "      <td>3</td>\n",
       "      <td>0</td>\n",
       "      <td>5</td>\n",
       "      <td>14.0</td>\n",
       "      <td>14.0</td>\n",
       "      <td>3434</td>\n",
       "    </tr>\n",
       "    <tr>\n",
       "      <th>102523</th>\n",
       "      <td>1003825</td>\n",
       "      <td>830</td>\n",
       "      <td>1</td>\n",
       "      <td>1</td>\n",
       "      <td>1</td>\n",
       "      <td>1</td>\n",
       "      <td>0</td>\n",
       "      <td>0</td>\n",
       "      <td>5</td>\n",
       "      <td>14.0</td>\n",
       "      <td>14.0</td>\n",
       "      <td>5294</td>\n",
       "    </tr>\n",
       "    <tr>\n",
       "      <th>437931</th>\n",
       "      <td>1001414</td>\n",
       "      <td>153</td>\n",
       "      <td>1</td>\n",
       "      <td>1</td>\n",
       "      <td>4</td>\n",
       "      <td>2</td>\n",
       "      <td>4</td>\n",
       "      <td>0</td>\n",
       "      <td>1</td>\n",
       "      <td>14.0</td>\n",
       "      <td>16.0</td>\n",
       "      <td>11642</td>\n",
       "    </tr>\n",
       "    <tr>\n",
       "      <th>499834</th>\n",
       "      <td>1004969</td>\n",
       "      <td>780</td>\n",
       "      <td>1</td>\n",
       "      <td>1</td>\n",
       "      <td>19</td>\n",
       "      <td>0</td>\n",
       "      <td>2</td>\n",
       "      <td>0</td>\n",
       "      <td>1</td>\n",
       "      <td>6.0</td>\n",
       "      <td>8.0</td>\n",
       "      <td>15460</td>\n",
       "    </tr>\n",
       "    <tr>\n",
       "      <th>276941</th>\n",
       "      <td>1000715</td>\n",
       "      <td>3245</td>\n",
       "      <td>1</td>\n",
       "      <td>1</td>\n",
       "      <td>0</td>\n",
       "      <td>1</td>\n",
       "      <td>1</td>\n",
       "      <td>0</td>\n",
       "      <td>1</td>\n",
       "      <td>9.0</td>\n",
       "      <td>14.0</td>\n",
       "      <td>11652</td>\n",
       "    </tr>\n",
       "    <tr>\n",
       "      <th>387975</th>\n",
       "      <td>1005702</td>\n",
       "      <td>512</td>\n",
       "      <td>1</td>\n",
       "      <td>1</td>\n",
       "      <td>0</td>\n",
       "      <td>1</td>\n",
       "      <td>4</td>\n",
       "      <td>0</td>\n",
       "      <td>8</td>\n",
       "      <td>14.0</td>\n",
       "      <td>14.0</td>\n",
       "      <td>4238</td>\n",
       "    </tr>\n",
       "    <tr>\n",
       "      <th>281970</th>\n",
       "      <td>1001447</td>\n",
       "      <td>1120</td>\n",
       "      <td>1</td>\n",
       "      <td>1</td>\n",
       "      <td>4</td>\n",
       "      <td>0</td>\n",
       "      <td>0</td>\n",
       "      <td>0</td>\n",
       "      <td>8</td>\n",
       "      <td>9.0</td>\n",
       "      <td>14.0</td>\n",
       "      <td>9893</td>\n",
       "    </tr>\n",
       "    <tr>\n",
       "      <th>340660</th>\n",
       "      <td>1004411</td>\n",
       "      <td>1393</td>\n",
       "      <td>1</td>\n",
       "      <td>1</td>\n",
       "      <td>4</td>\n",
       "      <td>0</td>\n",
       "      <td>3</td>\n",
       "      <td>0</td>\n",
       "      <td>6</td>\n",
       "      <td>8.0</td>\n",
       "      <td>16.0</td>\n",
       "      <td>12581</td>\n",
       "    </tr>\n",
       "    <tr>\n",
       "      <th>83330</th>\n",
       "      <td>1000881</td>\n",
       "      <td>3301</td>\n",
       "      <td>1</td>\n",
       "      <td>1</td>\n",
       "      <td>14</td>\n",
       "      <td>0</td>\n",
       "      <td>1</td>\n",
       "      <td>0</td>\n",
       "      <td>18</td>\n",
       "      <td>9.0</td>\n",
       "      <td>14.0</td>\n",
       "      <td>2287</td>\n",
       "    </tr>\n",
       "  </tbody>\n",
       "</table>\n",
       "</div>"
      ],
      "text/plain": [
       "        User_ID  Product_ID  Gender  Age  Occupation  City_Category  \\\n",
       "297103  1003777        3624       1    1           4              1   \n",
       "55086   1002446         399       1    1           7              1   \n",
       "82897   1000817        2003       1    1           4              1   \n",
       "485492  1002837        1953       1    1           0              1   \n",
       "127271  1001613        1434       1    1          20              0   \n",
       "204320  1001524        2916       1    1           4              1   \n",
       "19054   1003003        2314       1    1          15              1   \n",
       "50405   1001702        1853       1    1          10              2   \n",
       "479255  1001785        2925       1    1           4              1   \n",
       "411562  1003391        3602       1    1           4              0   \n",
       "150326  1005218         235       1    1           0              2   \n",
       "379769  1004411        2999       1    1           4              0   \n",
       "102523  1003825         830       1    1           1              1   \n",
       "437931  1001414         153       1    1           4              2   \n",
       "499834  1004969         780       1    1          19              0   \n",
       "276941  1000715        3245       1    1           0              1   \n",
       "387975  1005702         512       1    1           0              1   \n",
       "281970  1001447        1120       1    1           4              0   \n",
       "340660  1004411        1393       1    1           4              0   \n",
       "83330   1000881        3301       1    1          14              0   \n",
       "\n",
       "        Stay_In_Current_City_Years  Marital_Status  Product_Category_1  \\\n",
       "297103                           0               0                   8   \n",
       "55086                            0               0                   1   \n",
       "82897                            2               0                   5   \n",
       "485492                           1               0                   5   \n",
       "127271                           1               0                   5   \n",
       "204320                           1               0                   5   \n",
       "19054                            3               0                   1   \n",
       "50405                            2               0                   3   \n",
       "479255                           2               0                  11   \n",
       "411562                           0               0                   6   \n",
       "150326                           1               0                   7   \n",
       "379769                           3               0                   5   \n",
       "102523                           0               0                   5   \n",
       "437931                           4               0                   1   \n",
       "499834                           2               0                   1   \n",
       "276941                           1               0                   1   \n",
       "387975                           4               0                   8   \n",
       "281970                           0               0                   8   \n",
       "340660                           3               0                   6   \n",
       "83330                            1               0                  18   \n",
       "\n",
       "        Product_Category_2  Product_Category_3  Purchase  \n",
       "297103                14.0                14.0      6126  \n",
       "55086                  5.0                14.0     15824  \n",
       "82897                  9.0                14.0      5460  \n",
       "485492                 9.0                14.0      7135  \n",
       "127271                 9.0                14.0      3507  \n",
       "204320                11.0                14.0      3554  \n",
       "19054                  2.0                 9.0     15408  \n",
       "50405                  4.0                14.0      8066  \n",
       "479255                13.0                16.0      4445  \n",
       "411562                 9.0                14.0     16005  \n",
       "150326                 9.0                14.0     12214  \n",
       "379769                14.0                14.0      3434  \n",
       "102523                14.0                14.0      5294  \n",
       "437931                14.0                16.0     11642  \n",
       "499834                 6.0                 8.0     15460  \n",
       "276941                 9.0                14.0     11652  \n",
       "387975                14.0                14.0      4238  \n",
       "281970                 9.0                14.0      9893  \n",
       "340660                 8.0                16.0     12581  \n",
       "83330                  9.0                14.0      2287  "
      ]
     },
     "execution_count": 122,
     "metadata": {},
     "output_type": "execute_result"
    }
   ],
   "source": [
    "data_men.sample(20 , random_state = 10)"
   ]
  },
  {
   "cell_type": "code",
   "execution_count": 123,
   "id": "f8b55e64-76d1-4e2b-84d1-1c6eb937f0f1",
   "metadata": {},
   "outputs": [
    {
     "data": {
      "text/plain": [
       "(75032, 12)"
      ]
     },
     "execution_count": 123,
     "metadata": {},
     "output_type": "execute_result"
    }
   ],
   "source": [
    "data_men.shape"
   ]
  },
  {
   "cell_type": "code",
   "execution_count": 124,
   "id": "01493a9a-f20d-4827-887f-3c0f620f5b11",
   "metadata": {},
   "outputs": [
    {
     "data": {
      "text/plain": [
       "(475036, 12)"
      ]
     },
     "execution_count": 124,
     "metadata": {},
     "output_type": "execute_result"
    }
   ],
   "source": [
    "data_women.shape"
   ]
  },
  {
   "cell_type": "code",
   "execution_count": 125,
   "id": "73520b93-8c78-42f5-bf78-92786edfe3a1",
   "metadata": {},
   "outputs": [],
   "source": [
    "sample_men = data_men.sample(5000 , random_state = 0)\n",
    "sample_women = data_women.sample(5000 , random_state = 2)\n",
    "\n",
    "## sample sizes of both should be same."
   ]
  },
  {
   "cell_type": "code",
   "execution_count": 128,
   "id": "7b2fd443-69b9-4e69-8553-ee1cac14308f",
   "metadata": {},
   "outputs": [
    {
     "name": "stdout",
     "output_type": "stream",
     "text": [
      "t_statistical:3.0588256367424704\n",
      "p_value:0.0022279436763866433\n",
      "rejected Ho:There is significant change in student group\n"
     ]
    }
   ],
   "source": [
    "alpha = 0.05\n",
    "t_stats,p_value = stats.ttest_ind(sample_men['Purchase'],sample_women['Purchase'])\n",
    "print(f\"t_statistical:{t_stats}\")\n",
    "print(f\"p_value:{p_value}\")\n",
    "# let's check change.\n",
    "if p_value<alpha:\n",
    "    print(\"rejected Ho:There is significant change in student group\")\n",
    "else:\n",
    "    print(\"accepted Ho:There is Not significant change.\")"
   ]
  },
  {
   "cell_type": "code",
   "execution_count": 129,
   "id": "b55d7dc0-f195-4878-8864-9ee0760be7d8",
   "metadata": {},
   "outputs": [],
   "source": [
    "# so we can say that there average is not equal.."
   ]
  },
  {
   "cell_type": "code",
   "execution_count": 131,
   "id": "870472b6-9cb8-47c2-b644-bd5ff1075be7",
   "metadata": {},
   "outputs": [
    {
     "data": {
      "text/plain": [
       "26149904.153069884"
      ]
     },
     "execution_count": 131,
     "metadata": {},
     "output_type": "execute_result"
    }
   ],
   "source": [
    "data_men.Purchase.var()"
   ]
  },
  {
   "cell_type": "code",
   "execution_count": 132,
   "id": "3469d961-7f87-4da2-a798-893b3ce0bcb9",
   "metadata": {},
   "outputs": [
    {
     "data": {
      "text/plain": [
       "25080400.661211826"
      ]
     },
     "execution_count": 132,
     "metadata": {},
     "output_type": "execute_result"
    }
   ],
   "source": [
    "data_women.Purchase.var()"
   ]
  },
  {
   "cell_type": "code",
   "execution_count": 133,
   "id": "9e274ab4-bed1-4d2f-b29c-27c1d0b55094",
   "metadata": {},
   "outputs": [
    {
     "data": {
      "text/plain": [
       "9440.94297099904"
      ]
     },
     "execution_count": 133,
     "metadata": {},
     "output_type": "execute_result"
    }
   ],
   "source": [
    "data_men.Purchase.mean()"
   ]
  },
  {
   "cell_type": "code",
   "execution_count": 134,
   "id": "69c2568f-b5b2-480e-a947-6697c71ed25e",
   "metadata": {},
   "outputs": [
    {
     "data": {
      "text/plain": [
       "9236.015605133085"
      ]
     },
     "execution_count": 134,
     "metadata": {},
     "output_type": "execute_result"
    }
   ],
   "source": [
    "data_women.Purchase.mean()"
   ]
  },
  {
   "cell_type": "markdown",
   "id": "3b6cae3d-c7fa-4412-8ce9-f86a8bbae099",
   "metadata": {},
   "source": [
    "## we see that variance are different but we ALWAYS have to assume it to be same.... if they are equal then we are done for 2 sample test.."
   ]
  },
  {
   "cell_type": "markdown",
   "id": "cd2b6c6f-d014-40d5-b475-94a35087b452",
   "metadata": {},
   "source": [
    "# Z - Test"
   ]
  },
  {
   "cell_type": "markdown",
   "id": "d82614ea-4fc1-423f-9edf-f56430b3c5d9",
   "metadata": {},
   "source": [
    "was observed that the percentage of women of age that spend more than 10000 was 35% , is it still same"
   ]
  },
  {
   "cell_type": "code",
   "execution_count": 135,
   "id": "441d5f88-3334-4188-b044-3afbd3056462",
   "metadata": {},
   "outputs": [],
   "source": [
    "# Null - the percentage of women spend more than 10000 is 35%.\n",
    "# alternate - the percentage of women spend more than 10000 is not 35%."
   ]
  },
  {
   "cell_type": "code",
   "execution_count": 154,
   "id": "f8305a6a-9a3c-44cb-967f-d305b5e4c279",
   "metadata": {},
   "outputs": [],
   "source": [
    "### we see here proportion/Percentage/Ratio so use PROPORTION Z - TEST"
   ]
  },
  {
   "cell_type": "code",
   "execution_count": 156,
   "id": "95cc1a36-a0a9-40d7-b94c-87241ca0a903",
   "metadata": {},
   "outputs": [],
   "source": [
    "xx = df.loc[(df['Purchase']>10000) & (df['Gender'] ==1)]"
   ]
  },
  {
   "cell_type": "code",
   "execution_count": 157,
   "id": "ce29188c-7a39-46a3-9c74-4fa3af7e4d20",
   "metadata": {},
   "outputs": [
    {
     "data": {
      "text/html": [
       "<div>\n",
       "<style scoped>\n",
       "    .dataframe tbody tr th:only-of-type {\n",
       "        vertical-align: middle;\n",
       "    }\n",
       "\n",
       "    .dataframe tbody tr th {\n",
       "        vertical-align: top;\n",
       "    }\n",
       "\n",
       "    .dataframe thead th {\n",
       "        text-align: right;\n",
       "    }\n",
       "</style>\n",
       "<table border=\"1\" class=\"dataframe\">\n",
       "  <thead>\n",
       "    <tr style=\"text-align: right;\">\n",
       "      <th></th>\n",
       "      <th>User_ID</th>\n",
       "      <th>Product_ID</th>\n",
       "      <th>Gender</th>\n",
       "      <th>Age</th>\n",
       "      <th>Occupation</th>\n",
       "      <th>City_Category</th>\n",
       "      <th>Stay_In_Current_City_Years</th>\n",
       "      <th>Marital_Status</th>\n",
       "      <th>Product_Category_1</th>\n",
       "      <th>Product_Category_2</th>\n",
       "      <th>Product_Category_3</th>\n",
       "      <th>Purchase</th>\n",
       "    </tr>\n",
       "  </thead>\n",
       "  <tbody>\n",
       "    <tr>\n",
       "      <th>5</th>\n",
       "      <td>1000003</td>\n",
       "      <td>1831</td>\n",
       "      <td>1</td>\n",
       "      <td>2</td>\n",
       "      <td>15</td>\n",
       "      <td>0</td>\n",
       "      <td>3</td>\n",
       "      <td>0</td>\n",
       "      <td>1</td>\n",
       "      <td>2.0</td>\n",
       "      <td>14.0</td>\n",
       "      <td>15227</td>\n",
       "    </tr>\n",
       "    <tr>\n",
       "      <th>6</th>\n",
       "      <td>1000004</td>\n",
       "      <td>1745</td>\n",
       "      <td>1</td>\n",
       "      <td>4</td>\n",
       "      <td>7</td>\n",
       "      <td>1</td>\n",
       "      <td>2</td>\n",
       "      <td>1</td>\n",
       "      <td>1</td>\n",
       "      <td>8.0</td>\n",
       "      <td>17.0</td>\n",
       "      <td>19215</td>\n",
       "    </tr>\n",
       "    <tr>\n",
       "      <th>7</th>\n",
       "      <td>1000004</td>\n",
       "      <td>3320</td>\n",
       "      <td>1</td>\n",
       "      <td>4</td>\n",
       "      <td>7</td>\n",
       "      <td>1</td>\n",
       "      <td>2</td>\n",
       "      <td>1</td>\n",
       "      <td>1</td>\n",
       "      <td>15.0</td>\n",
       "      <td>14.0</td>\n",
       "      <td>15854</td>\n",
       "    </tr>\n",
       "    <tr>\n",
       "      <th>8</th>\n",
       "      <td>1000004</td>\n",
       "      <td>3604</td>\n",
       "      <td>1</td>\n",
       "      <td>4</td>\n",
       "      <td>7</td>\n",
       "      <td>1</td>\n",
       "      <td>2</td>\n",
       "      <td>1</td>\n",
       "      <td>1</td>\n",
       "      <td>16.0</td>\n",
       "      <td>14.0</td>\n",
       "      <td>15686</td>\n",
       "    </tr>\n",
       "    <tr>\n",
       "      <th>13</th>\n",
       "      <td>1000005</td>\n",
       "      <td>1355</td>\n",
       "      <td>1</td>\n",
       "      <td>2</td>\n",
       "      <td>20</td>\n",
       "      <td>0</td>\n",
       "      <td>1</td>\n",
       "      <td>1</td>\n",
       "      <td>1</td>\n",
       "      <td>2.0</td>\n",
       "      <td>5.0</td>\n",
       "      <td>15665</td>\n",
       "    </tr>\n",
       "    <tr>\n",
       "      <th>...</th>\n",
       "      <td>...</td>\n",
       "      <td>...</td>\n",
       "      <td>...</td>\n",
       "      <td>...</td>\n",
       "      <td>...</td>\n",
       "      <td>...</td>\n",
       "      <td>...</td>\n",
       "      <td>...</td>\n",
       "      <td>...</td>\n",
       "      <td>...</td>\n",
       "      <td>...</td>\n",
       "      <td>...</td>\n",
       "    </tr>\n",
       "    <tr>\n",
       "      <th>545844</th>\n",
       "      <td>1006032</td>\n",
       "      <td>1034</td>\n",
       "      <td>1</td>\n",
       "      <td>4</td>\n",
       "      <td>7</td>\n",
       "      <td>0</td>\n",
       "      <td>3</td>\n",
       "      <td>0</td>\n",
       "      <td>1</td>\n",
       "      <td>11.0</td>\n",
       "      <td>15.0</td>\n",
       "      <td>19325</td>\n",
       "    </tr>\n",
       "    <tr>\n",
       "      <th>545845</th>\n",
       "      <td>1006034</td>\n",
       "      <td>2658</td>\n",
       "      <td>1</td>\n",
       "      <td>2</td>\n",
       "      <td>14</td>\n",
       "      <td>0</td>\n",
       "      <td>3</td>\n",
       "      <td>0</td>\n",
       "      <td>2</td>\n",
       "      <td>3.0</td>\n",
       "      <td>10.0</td>\n",
       "      <td>10016</td>\n",
       "    </tr>\n",
       "    <tr>\n",
       "      <th>545904</th>\n",
       "      <td>1006040</td>\n",
       "      <td>787</td>\n",
       "      <td>1</td>\n",
       "      <td>2</td>\n",
       "      <td>6</td>\n",
       "      <td>1</td>\n",
       "      <td>2</td>\n",
       "      <td>0</td>\n",
       "      <td>6</td>\n",
       "      <td>8.0</td>\n",
       "      <td>14.0</td>\n",
       "      <td>16493</td>\n",
       "    </tr>\n",
       "    <tr>\n",
       "      <th>545908</th>\n",
       "      <td>1006040</td>\n",
       "      <td>1184</td>\n",
       "      <td>1</td>\n",
       "      <td>2</td>\n",
       "      <td>6</td>\n",
       "      <td>1</td>\n",
       "      <td>2</td>\n",
       "      <td>0</td>\n",
       "      <td>1</td>\n",
       "      <td>2.0</td>\n",
       "      <td>15.0</td>\n",
       "      <td>15694</td>\n",
       "    </tr>\n",
       "    <tr>\n",
       "      <th>545914</th>\n",
       "      <td>1006040</td>\n",
       "      <td>2066</td>\n",
       "      <td>1</td>\n",
       "      <td>2</td>\n",
       "      <td>6</td>\n",
       "      <td>1</td>\n",
       "      <td>2</td>\n",
       "      <td>0</td>\n",
       "      <td>1</td>\n",
       "      <td>2.0</td>\n",
       "      <td>11.0</td>\n",
       "      <td>11640</td>\n",
       "    </tr>\n",
       "  </tbody>\n",
       "</table>\n",
       "<p>150509 rows × 12 columns</p>\n",
       "</div>"
      ],
      "text/plain": [
       "        User_ID  Product_ID  Gender  Age  Occupation  City_Category  \\\n",
       "5       1000003        1831       1    2          15              0   \n",
       "6       1000004        1745       1    4           7              1   \n",
       "7       1000004        3320       1    4           7              1   \n",
       "8       1000004        3604       1    4           7              1   \n",
       "13      1000005        1355       1    2          20              0   \n",
       "...         ...         ...     ...  ...         ...            ...   \n",
       "545844  1006032        1034       1    4           7              0   \n",
       "545845  1006034        2658       1    2          14              0   \n",
       "545904  1006040         787       1    2           6              1   \n",
       "545908  1006040        1184       1    2           6              1   \n",
       "545914  1006040        2066       1    2           6              1   \n",
       "\n",
       "        Stay_In_Current_City_Years  Marital_Status  Product_Category_1  \\\n",
       "5                                3               0                   1   \n",
       "6                                2               1                   1   \n",
       "7                                2               1                   1   \n",
       "8                                2               1                   1   \n",
       "13                               1               1                   1   \n",
       "...                            ...             ...                 ...   \n",
       "545844                           3               0                   1   \n",
       "545845                           3               0                   2   \n",
       "545904                           2               0                   6   \n",
       "545908                           2               0                   1   \n",
       "545914                           2               0                   1   \n",
       "\n",
       "        Product_Category_2  Product_Category_3  Purchase  \n",
       "5                      2.0                14.0     15227  \n",
       "6                      8.0                17.0     19215  \n",
       "7                     15.0                14.0     15854  \n",
       "8                     16.0                14.0     15686  \n",
       "13                     2.0                 5.0     15665  \n",
       "...                    ...                 ...       ...  \n",
       "545844                11.0                15.0     19325  \n",
       "545845                 3.0                10.0     10016  \n",
       "545904                 8.0                14.0     16493  \n",
       "545908                 2.0                15.0     15694  \n",
       "545914                 2.0                11.0     11640  \n",
       "\n",
       "[150509 rows x 12 columns]"
      ]
     },
     "execution_count": 157,
     "metadata": {},
     "output_type": "execute_result"
    }
   ],
   "source": [
    "xx"
   ]
  },
  {
   "cell_type": "code",
   "execution_count": 153,
   "id": "1f8289eb-4138-4cbf-a55a-4713257befc7",
   "metadata": {},
   "outputs": [
    {
     "data": {
      "text/plain": [
       "(189450, 12)"
      ]
     },
     "execution_count": 153,
     "metadata": {},
     "output_type": "execute_result"
    }
   ],
   "source": [
    "new_.shape"
   ]
  },
  {
   "cell_type": "code",
   "execution_count": 179,
   "id": "359c944a-c4ca-491c-92f0-ebe93a8c2ba8",
   "metadata": {},
   "outputs": [],
   "source": [
    "new_ = df.loc[df['Purchase']>10000]"
   ]
  },
  {
   "cell_type": "code",
   "execution_count": 180,
   "id": "e0069cca-1d21-42ad-9943-d36467ab7bb9",
   "metadata": {},
   "outputs": [],
   "source": [
    "## i want to find the percentage of women in new_"
   ]
  },
  {
   "cell_type": "code",
   "execution_count": 181,
   "id": "cea6ea9e-eaaa-4dc6-b9b5-727baa905093",
   "metadata": {},
   "outputs": [
    {
     "data": {
      "text/plain": [
       "Gender\n",
       "1    150509\n",
       "0     38941\n",
       "Name: count, dtype: int64"
      ]
     },
     "execution_count": 181,
     "metadata": {},
     "output_type": "execute_result"
    }
   ],
   "source": [
    "new_['Gender'].value_counts()"
   ]
  },
  {
   "cell_type": "code",
   "execution_count": 182,
   "id": "fca5dd11-272d-451d-b81f-ed68f3874c76",
   "metadata": {},
   "outputs": [],
   "source": [
    "new_women = (new_['Gender']==0)"
   ]
  },
  {
   "cell_type": "code",
   "execution_count": 183,
   "id": "82d4af50-ac9c-4dc1-8e50-2230b0c1292a",
   "metadata": {},
   "outputs": [
    {
     "data": {
      "text/plain": [
       "38941"
      ]
     },
     "execution_count": 183,
     "metadata": {},
     "output_type": "execute_result"
    }
   ],
   "source": [
    "wo_count = new_women.sum()\n",
    "wo_count"
   ]
  },
  {
   "cell_type": "code",
   "execution_count": 184,
   "id": "dd46ccb5-d73a-48cb-9954-2b2efcdfbe41",
   "metadata": {},
   "outputs": [
    {
     "data": {
      "text/plain": [
       "550068"
      ]
     },
     "execution_count": 184,
     "metadata": {},
     "output_type": "execute_result"
    }
   ],
   "source": [
    "wo_nobs = len(df['Gender'])\n",
    "wo_nobs"
   ]
  },
  {
   "cell_type": "code",
   "execution_count": 185,
   "id": "c206325c-a43e-47aa-a343-b09ff0ccb1f5",
   "metadata": {},
   "outputs": [],
   "source": [
    "p0 = 0.35 # given as hypothesised value."
   ]
  },
  {
   "cell_type": "code",
   "execution_count": 192,
   "id": "283171ad-7b9c-4bc7-b653-4a059bf53447",
   "metadata": {},
   "outputs": [
    {
     "name": "stdout",
     "output_type": "stream",
     "text": [
      "Z-statistic: -807.3889660997766\n",
      "P-value: 0.0\n",
      "rejected Ho\n"
     ]
    }
   ],
   "source": [
    "from statsmodels.stats.proportion import proportions_ztest\n",
    "alpha = 0.05\n",
    "wo_count = new_women.sum()  # List with the total count of successes\n",
    "wo_nobs = len(df)           # List with the total number of observations\n",
    "p0 = 0.35                    # Proportion under the null hypothesis\n",
    "\n",
    "# Perform the z-test for proportions\n",
    "z_stats, p_value = proportions_ztest(count=wo_count, nobs=wo_nobs, value=p0)\n",
    "\n",
    "print(f\"Z-statistic: {z_stats}\")\n",
    "print(f\"P-value: {p_value}\")\n",
    "if p_value<alpha:\n",
    "    print(\"rejected Ho\")\n",
    "else:\n",
    "    print(\"accepted Ho\")\n"
   ]
  },
  {
   "cell_type": "markdown",
   "id": "336fc61a-1c67-4d21-b87f-64d5d6ec6227",
   "metadata": {},
   "source": [
    "# Chi Square test\n",
    "\n",
    "when we have two compare the categorical data whether they are dependent ot not"
   ]
  },
  {
   "cell_type": "markdown",
   "id": "56825d93-3d23-4e49-b4e5-24ccf60d84e7",
   "metadata": {},
   "source": [
    "Is the purchase category dependent of product_category_1"
   ]
  },
  {
   "cell_type": "code",
   "execution_count": 193,
   "id": "971afe7e-6457-4b03-b5c3-63fa6a35e152",
   "metadata": {},
   "outputs": [],
   "source": [
    "from scipy.stats import chi2_contingency"
   ]
  },
  {
   "cell_type": "markdown",
   "id": "142efb71-2984-409b-8812-7f656fbedac2",
   "metadata": {},
   "source": [
    "## 1)we need to create a crosstab\n",
    "\n",
    "## 2)a table will take two inputs and create a table with all the matching pairs of data"
   ]
  },
  {
   "cell_type": "code",
   "execution_count": 196,
   "id": "3dfc543a-e52b-47d8-81da-83e3b35a9050",
   "metadata": {},
   "outputs": [],
   "source": [
    "contingency_table = pd.crosstab(df['Purchase'],df['Product_Category_1'])"
   ]
  },
  {
   "cell_type": "code",
   "execution_count": 197,
   "id": "c0cd6f48-c9d2-4929-b123-901b36459818",
   "metadata": {},
   "outputs": [
    {
     "data": {
      "text/html": [
       "<div>\n",
       "<style scoped>\n",
       "    .dataframe tbody tr th:only-of-type {\n",
       "        vertical-align: middle;\n",
       "    }\n",
       "\n",
       "    .dataframe tbody tr th {\n",
       "        vertical-align: top;\n",
       "    }\n",
       "\n",
       "    .dataframe thead th {\n",
       "        text-align: right;\n",
       "    }\n",
       "</style>\n",
       "<table border=\"1\" class=\"dataframe\">\n",
       "  <thead>\n",
       "    <tr style=\"text-align: right;\">\n",
       "      <th>Product_Category_1</th>\n",
       "      <th>1</th>\n",
       "      <th>2</th>\n",
       "      <th>3</th>\n",
       "      <th>4</th>\n",
       "      <th>5</th>\n",
       "      <th>6</th>\n",
       "      <th>7</th>\n",
       "      <th>8</th>\n",
       "      <th>9</th>\n",
       "      <th>10</th>\n",
       "      <th>11</th>\n",
       "      <th>12</th>\n",
       "      <th>13</th>\n",
       "      <th>14</th>\n",
       "      <th>15</th>\n",
       "      <th>16</th>\n",
       "      <th>17</th>\n",
       "      <th>18</th>\n",
       "      <th>19</th>\n",
       "      <th>20</th>\n",
       "    </tr>\n",
       "    <tr>\n",
       "      <th>Purchase</th>\n",
       "      <th></th>\n",
       "      <th></th>\n",
       "      <th></th>\n",
       "      <th></th>\n",
       "      <th></th>\n",
       "      <th></th>\n",
       "      <th></th>\n",
       "      <th></th>\n",
       "      <th></th>\n",
       "      <th></th>\n",
       "      <th></th>\n",
       "      <th></th>\n",
       "      <th></th>\n",
       "      <th></th>\n",
       "      <th></th>\n",
       "      <th></th>\n",
       "      <th></th>\n",
       "      <th></th>\n",
       "      <th></th>\n",
       "      <th></th>\n",
       "    </tr>\n",
       "  </thead>\n",
       "  <tbody>\n",
       "    <tr>\n",
       "      <th>12</th>\n",
       "      <td>0</td>\n",
       "      <td>0</td>\n",
       "      <td>0</td>\n",
       "      <td>0</td>\n",
       "      <td>0</td>\n",
       "      <td>0</td>\n",
       "      <td>0</td>\n",
       "      <td>0</td>\n",
       "      <td>0</td>\n",
       "      <td>0</td>\n",
       "      <td>0</td>\n",
       "      <td>0</td>\n",
       "      <td>0</td>\n",
       "      <td>0</td>\n",
       "      <td>0</td>\n",
       "      <td>0</td>\n",
       "      <td>0</td>\n",
       "      <td>0</td>\n",
       "      <td>101</td>\n",
       "      <td>0</td>\n",
       "    </tr>\n",
       "    <tr>\n",
       "      <th>13</th>\n",
       "      <td>0</td>\n",
       "      <td>0</td>\n",
       "      <td>0</td>\n",
       "      <td>0</td>\n",
       "      <td>0</td>\n",
       "      <td>0</td>\n",
       "      <td>0</td>\n",
       "      <td>0</td>\n",
       "      <td>0</td>\n",
       "      <td>0</td>\n",
       "      <td>0</td>\n",
       "      <td>0</td>\n",
       "      <td>0</td>\n",
       "      <td>0</td>\n",
       "      <td>0</td>\n",
       "      <td>0</td>\n",
       "      <td>0</td>\n",
       "      <td>0</td>\n",
       "      <td>106</td>\n",
       "      <td>0</td>\n",
       "    </tr>\n",
       "    <tr>\n",
       "      <th>14</th>\n",
       "      <td>0</td>\n",
       "      <td>0</td>\n",
       "      <td>0</td>\n",
       "      <td>0</td>\n",
       "      <td>0</td>\n",
       "      <td>0</td>\n",
       "      <td>0</td>\n",
       "      <td>0</td>\n",
       "      <td>0</td>\n",
       "      <td>0</td>\n",
       "      <td>0</td>\n",
       "      <td>0</td>\n",
       "      <td>0</td>\n",
       "      <td>0</td>\n",
       "      <td>0</td>\n",
       "      <td>0</td>\n",
       "      <td>0</td>\n",
       "      <td>0</td>\n",
       "      <td>95</td>\n",
       "      <td>0</td>\n",
       "    </tr>\n",
       "    <tr>\n",
       "      <th>24</th>\n",
       "      <td>0</td>\n",
       "      <td>0</td>\n",
       "      <td>0</td>\n",
       "      <td>0</td>\n",
       "      <td>0</td>\n",
       "      <td>0</td>\n",
       "      <td>0</td>\n",
       "      <td>0</td>\n",
       "      <td>0</td>\n",
       "      <td>0</td>\n",
       "      <td>0</td>\n",
       "      <td>0</td>\n",
       "      <td>0</td>\n",
       "      <td>0</td>\n",
       "      <td>0</td>\n",
       "      <td>0</td>\n",
       "      <td>0</td>\n",
       "      <td>0</td>\n",
       "      <td>118</td>\n",
       "      <td>0</td>\n",
       "    </tr>\n",
       "    <tr>\n",
       "      <th>25</th>\n",
       "      <td>0</td>\n",
       "      <td>0</td>\n",
       "      <td>0</td>\n",
       "      <td>0</td>\n",
       "      <td>0</td>\n",
       "      <td>0</td>\n",
       "      <td>0</td>\n",
       "      <td>0</td>\n",
       "      <td>0</td>\n",
       "      <td>0</td>\n",
       "      <td>0</td>\n",
       "      <td>0</td>\n",
       "      <td>0</td>\n",
       "      <td>0</td>\n",
       "      <td>0</td>\n",
       "      <td>0</td>\n",
       "      <td>0</td>\n",
       "      <td>0</td>\n",
       "      <td>113</td>\n",
       "      <td>0</td>\n",
       "    </tr>\n",
       "    <tr>\n",
       "      <th>...</th>\n",
       "      <td>...</td>\n",
       "      <td>...</td>\n",
       "      <td>...</td>\n",
       "      <td>...</td>\n",
       "      <td>...</td>\n",
       "      <td>...</td>\n",
       "      <td>...</td>\n",
       "      <td>...</td>\n",
       "      <td>...</td>\n",
       "      <td>...</td>\n",
       "      <td>...</td>\n",
       "      <td>...</td>\n",
       "      <td>...</td>\n",
       "      <td>...</td>\n",
       "      <td>...</td>\n",
       "      <td>...</td>\n",
       "      <td>...</td>\n",
       "      <td>...</td>\n",
       "      <td>...</td>\n",
       "      <td>...</td>\n",
       "    </tr>\n",
       "    <tr>\n",
       "      <th>23956</th>\n",
       "      <td>0</td>\n",
       "      <td>0</td>\n",
       "      <td>0</td>\n",
       "      <td>0</td>\n",
       "      <td>0</td>\n",
       "      <td>0</td>\n",
       "      <td>0</td>\n",
       "      <td>0</td>\n",
       "      <td>0</td>\n",
       "      <td>1</td>\n",
       "      <td>0</td>\n",
       "      <td>0</td>\n",
       "      <td>0</td>\n",
       "      <td>0</td>\n",
       "      <td>0</td>\n",
       "      <td>0</td>\n",
       "      <td>0</td>\n",
       "      <td>0</td>\n",
       "      <td>0</td>\n",
       "      <td>0</td>\n",
       "    </tr>\n",
       "    <tr>\n",
       "      <th>23958</th>\n",
       "      <td>0</td>\n",
       "      <td>0</td>\n",
       "      <td>0</td>\n",
       "      <td>0</td>\n",
       "      <td>0</td>\n",
       "      <td>0</td>\n",
       "      <td>0</td>\n",
       "      <td>0</td>\n",
       "      <td>0</td>\n",
       "      <td>4</td>\n",
       "      <td>0</td>\n",
       "      <td>0</td>\n",
       "      <td>0</td>\n",
       "      <td>0</td>\n",
       "      <td>0</td>\n",
       "      <td>0</td>\n",
       "      <td>0</td>\n",
       "      <td>0</td>\n",
       "      <td>0</td>\n",
       "      <td>0</td>\n",
       "    </tr>\n",
       "    <tr>\n",
       "      <th>23959</th>\n",
       "      <td>0</td>\n",
       "      <td>0</td>\n",
       "      <td>0</td>\n",
       "      <td>0</td>\n",
       "      <td>0</td>\n",
       "      <td>0</td>\n",
       "      <td>0</td>\n",
       "      <td>0</td>\n",
       "      <td>0</td>\n",
       "      <td>2</td>\n",
       "      <td>0</td>\n",
       "      <td>0</td>\n",
       "      <td>0</td>\n",
       "      <td>0</td>\n",
       "      <td>0</td>\n",
       "      <td>0</td>\n",
       "      <td>0</td>\n",
       "      <td>0</td>\n",
       "      <td>0</td>\n",
       "      <td>0</td>\n",
       "    </tr>\n",
       "    <tr>\n",
       "      <th>23960</th>\n",
       "      <td>0</td>\n",
       "      <td>0</td>\n",
       "      <td>0</td>\n",
       "      <td>0</td>\n",
       "      <td>0</td>\n",
       "      <td>0</td>\n",
       "      <td>0</td>\n",
       "      <td>0</td>\n",
       "      <td>0</td>\n",
       "      <td>4</td>\n",
       "      <td>0</td>\n",
       "      <td>0</td>\n",
       "      <td>0</td>\n",
       "      <td>0</td>\n",
       "      <td>0</td>\n",
       "      <td>0</td>\n",
       "      <td>0</td>\n",
       "      <td>0</td>\n",
       "      <td>0</td>\n",
       "      <td>0</td>\n",
       "    </tr>\n",
       "    <tr>\n",
       "      <th>23961</th>\n",
       "      <td>0</td>\n",
       "      <td>0</td>\n",
       "      <td>0</td>\n",
       "      <td>0</td>\n",
       "      <td>0</td>\n",
       "      <td>0</td>\n",
       "      <td>0</td>\n",
       "      <td>0</td>\n",
       "      <td>0</td>\n",
       "      <td>3</td>\n",
       "      <td>0</td>\n",
       "      <td>0</td>\n",
       "      <td>0</td>\n",
       "      <td>0</td>\n",
       "      <td>0</td>\n",
       "      <td>0</td>\n",
       "      <td>0</td>\n",
       "      <td>0</td>\n",
       "      <td>0</td>\n",
       "      <td>0</td>\n",
       "    </tr>\n",
       "  </tbody>\n",
       "</table>\n",
       "<p>18105 rows × 20 columns</p>\n",
       "</div>"
      ],
      "text/plain": [
       "Product_Category_1  1   2   3   4   5   6   7   8   9   10  11  12  13  14  \\\n",
       "Purchase                                                                     \n",
       "12                   0   0   0   0   0   0   0   0   0   0   0   0   0   0   \n",
       "13                   0   0   0   0   0   0   0   0   0   0   0   0   0   0   \n",
       "14                   0   0   0   0   0   0   0   0   0   0   0   0   0   0   \n",
       "24                   0   0   0   0   0   0   0   0   0   0   0   0   0   0   \n",
       "25                   0   0   0   0   0   0   0   0   0   0   0   0   0   0   \n",
       "...                 ..  ..  ..  ..  ..  ..  ..  ..  ..  ..  ..  ..  ..  ..   \n",
       "23956                0   0   0   0   0   0   0   0   0   1   0   0   0   0   \n",
       "23958                0   0   0   0   0   0   0   0   0   4   0   0   0   0   \n",
       "23959                0   0   0   0   0   0   0   0   0   2   0   0   0   0   \n",
       "23960                0   0   0   0   0   0   0   0   0   4   0   0   0   0   \n",
       "23961                0   0   0   0   0   0   0   0   0   3   0   0   0   0   \n",
       "\n",
       "Product_Category_1  15  16  17  18   19  20  \n",
       "Purchase                                     \n",
       "12                   0   0   0   0  101   0  \n",
       "13                   0   0   0   0  106   0  \n",
       "14                   0   0   0   0   95   0  \n",
       "24                   0   0   0   0  118   0  \n",
       "25                   0   0   0   0  113   0  \n",
       "...                 ..  ..  ..  ..  ...  ..  \n",
       "23956                0   0   0   0    0   0  \n",
       "23958                0   0   0   0    0   0  \n",
       "23959                0   0   0   0    0   0  \n",
       "23960                0   0   0   0    0   0  \n",
       "23961                0   0   0   0    0   0  \n",
       "\n",
       "[18105 rows x 20 columns]"
      ]
     },
     "execution_count": 197,
     "metadata": {},
     "output_type": "execute_result"
    }
   ],
   "source": [
    "contingency_table\n",
    "\n",
    "# it only keep unique value in column name.\n",
    "# and non-zero value here show the number of pairs of that numbers in data."
   ]
  },
  {
   "cell_type": "code",
   "execution_count": 198,
   "id": "36678e53-3089-4dbb-85fa-e6ed882bf365",
   "metadata": {},
   "outputs": [],
   "source": [
    "# we can look (12,19) have value 101 so it mean thet pair is  repeating 101 times."
   ]
  },
  {
   "cell_type": "code",
   "execution_count": 201,
   "id": "f104eeb4-e293-4c09-9ed4-70ae6bf2b7d4",
   "metadata": {},
   "outputs": [
    {
     "name": "stdout",
     "output_type": "stream",
     "text": [
      "independent\n"
     ]
    }
   ],
   "source": [
    "alpha = 0.05\n",
    "chi_2 , p_value , dof , expected = chi2_contingency(contingency_table)\n",
    "if p_value<alpha:\n",
    "    print(\"independent\")\n",
    "else:\n",
    "    print(\"dependent\")"
   ]
  },
  {
   "cell_type": "code",
   "execution_count": 202,
   "id": "b54fb58c-39b4-4797-a43e-1c3530cfa67b",
   "metadata": {},
   "outputs": [],
   "source": [
    "# hence null hypothesie - that they are dependent is rejected"
   ]
  },
  {
   "cell_type": "markdown",
   "id": "9db9b9be-125d-4a66-9fb2-4f3c5eed2fa5",
   "metadata": {},
   "source": [
    "# ANOVA Test"
   ]
  },
  {
   "cell_type": "markdown",
   "id": "b303476d-c9fb-406f-9d98-e5f98b048e66",
   "metadata": {},
   "source": [
    "Is product category 1 and product category 2 and product category 3 are having same average"
   ]
  },
  {
   "cell_type": "code",
   "execution_count": 204,
   "id": "c54b5619-6540-4f11-8dac-d1e16ff8bd23",
   "metadata": {},
   "outputs": [],
   "source": [
    "# Null ho - yes they have same average \n",
    "# alternate Ha - No they don;t have"
   ]
  },
  {
   "cell_type": "code",
   "execution_count": 206,
   "id": "e71d9419-425c-4c9b-b132-253e17eef942",
   "metadata": {},
   "outputs": [],
   "source": [
    "data_1 = df['Product_Category_1']\n",
    "data_2 = df['Product_Category_2']\n",
    "data_3 = df['Product_Category_3']"
   ]
  },
  {
   "cell_type": "code",
   "execution_count": 209,
   "id": "f99bb32f-1918-4524-bbdd-714f7ec08f86",
   "metadata": {},
   "outputs": [],
   "source": [
    "sample_1 = data_1.sample(5000 , random_state = 0)\n",
    "sample_2 = data_2.sample(5000 , random_state = 2)\n",
    "sample_3 = data_3.sample(5000 , random_state = 4)"
   ]
  },
  {
   "cell_type": "code",
   "execution_count": 210,
   "id": "b7a862b0-af8c-4375-8dfd-213007cbcfcf",
   "metadata": {},
   "outputs": [],
   "source": [
    "from scipy.stats import f_oneway"
   ]
  },
  {
   "cell_type": "code",
   "execution_count": 213,
   "id": "65db2d3b-71da-4a8f-83a8-ea9ec8644503",
   "metadata": {},
   "outputs": [
    {
     "name": "stdout",
     "output_type": "stream",
     "text": [
      " Rejected Ho\n"
     ]
    }
   ],
   "source": [
    "alpha = 0.05\n",
    "a_stats , p_value = f_oneway(sample_1 , sample_2 , sample_3)\n",
    "if p_value<alpha:\n",
    "    print(\" Rejected Ho\")\n",
    "else:\n",
    "    print(\"Fail to reject Ho\")"
   ]
  },
  {
   "cell_type": "code",
   "execution_count": 215,
   "id": "51da81a7-e154-4914-a445-b7c2f3728824",
   "metadata": {},
   "outputs": [
    {
     "data": {
      "text/html": [
       "<div>\n",
       "<style scoped>\n",
       "    .dataframe tbody tr th:only-of-type {\n",
       "        vertical-align: middle;\n",
       "    }\n",
       "\n",
       "    .dataframe tbody tr th {\n",
       "        vertical-align: top;\n",
       "    }\n",
       "\n",
       "    .dataframe thead th {\n",
       "        text-align: right;\n",
       "    }\n",
       "</style>\n",
       "<table border=\"1\" class=\"dataframe\">\n",
       "  <thead>\n",
       "    <tr style=\"text-align: right;\">\n",
       "      <th></th>\n",
       "      <th>User_ID</th>\n",
       "      <th>Product_ID</th>\n",
       "      <th>Gender</th>\n",
       "      <th>Age</th>\n",
       "      <th>Occupation</th>\n",
       "      <th>City_Category</th>\n",
       "      <th>Stay_In_Current_City_Years</th>\n",
       "      <th>Marital_Status</th>\n",
       "      <th>Product_Category_1</th>\n",
       "      <th>Product_Category_2</th>\n",
       "      <th>Product_Category_3</th>\n",
       "      <th>Purchase</th>\n",
       "    </tr>\n",
       "  </thead>\n",
       "  <tbody>\n",
       "    <tr>\n",
       "      <th>User_ID</th>\n",
       "      <td>1.000000</td>\n",
       "      <td>-0.017851</td>\n",
       "      <td>-0.033474</td>\n",
       "      <td>0.032698</td>\n",
       "      <td>-0.023971</td>\n",
       "      <td>0.022859</td>\n",
       "      <td>-0.030737</td>\n",
       "      <td>0.020443</td>\n",
       "      <td>0.003825</td>\n",
       "      <td>0.001644</td>\n",
       "      <td>0.001008</td>\n",
       "      <td>0.004716</td>\n",
       "    </tr>\n",
       "    <tr>\n",
       "      <th>Product_ID</th>\n",
       "      <td>-0.017851</td>\n",
       "      <td>1.000000</td>\n",
       "      <td>0.015916</td>\n",
       "      <td>0.023476</td>\n",
       "      <td>0.007424</td>\n",
       "      <td>0.007032</td>\n",
       "      <td>-0.002398</td>\n",
       "      <td>0.011621</td>\n",
       "      <td>0.074717</td>\n",
       "      <td>-0.001079</td>\n",
       "      <td>0.053231</td>\n",
       "      <td>-0.109345</td>\n",
       "    </tr>\n",
       "    <tr>\n",
       "      <th>Gender</th>\n",
       "      <td>-0.033474</td>\n",
       "      <td>0.015916</td>\n",
       "      <td>1.000000</td>\n",
       "      <td>-0.004262</td>\n",
       "      <td>0.117291</td>\n",
       "      <td>-0.004515</td>\n",
       "      <td>0.014660</td>\n",
       "      <td>-0.011603</td>\n",
       "      <td>-0.045594</td>\n",
       "      <td>-0.014051</td>\n",
       "      <td>0.005887</td>\n",
       "      <td>0.060346</td>\n",
       "    </tr>\n",
       "    <tr>\n",
       "      <th>Age</th>\n",
       "      <td>0.032698</td>\n",
       "      <td>0.023476</td>\n",
       "      <td>-0.004262</td>\n",
       "      <td>1.000000</td>\n",
       "      <td>0.091463</td>\n",
       "      <td>0.123079</td>\n",
       "      <td>-0.004712</td>\n",
       "      <td>0.311738</td>\n",
       "      <td>0.061197</td>\n",
       "      <td>0.043503</td>\n",
       "      <td>0.035310</td>\n",
       "      <td>0.015839</td>\n",
       "    </tr>\n",
       "    <tr>\n",
       "      <th>Occupation</th>\n",
       "      <td>-0.023971</td>\n",
       "      <td>0.007424</td>\n",
       "      <td>0.117291</td>\n",
       "      <td>0.091463</td>\n",
       "      <td>1.000000</td>\n",
       "      <td>0.034479</td>\n",
       "      <td>0.030005</td>\n",
       "      <td>0.024280</td>\n",
       "      <td>-0.007618</td>\n",
       "      <td>0.000557</td>\n",
       "      <td>0.004325</td>\n",
       "      <td>0.020833</td>\n",
       "    </tr>\n",
       "    <tr>\n",
       "      <th>City_Category</th>\n",
       "      <td>0.022859</td>\n",
       "      <td>0.007032</td>\n",
       "      <td>-0.004515</td>\n",
       "      <td>0.123079</td>\n",
       "      <td>0.034479</td>\n",
       "      <td>1.000000</td>\n",
       "      <td>0.019946</td>\n",
       "      <td>0.039790</td>\n",
       "      <td>-0.014364</td>\n",
       "      <td>-0.006888</td>\n",
       "      <td>-0.011300</td>\n",
       "      <td>0.061914</td>\n",
       "    </tr>\n",
       "    <tr>\n",
       "      <th>Stay_In_Current_City_Years</th>\n",
       "      <td>-0.030737</td>\n",
       "      <td>-0.002398</td>\n",
       "      <td>0.014660</td>\n",
       "      <td>-0.004712</td>\n",
       "      <td>0.030005</td>\n",
       "      <td>0.019946</td>\n",
       "      <td>1.000000</td>\n",
       "      <td>-0.012819</td>\n",
       "      <td>-0.004213</td>\n",
       "      <td>-0.001087</td>\n",
       "      <td>0.000673</td>\n",
       "      <td>0.005422</td>\n",
       "    </tr>\n",
       "    <tr>\n",
       "      <th>Marital_Status</th>\n",
       "      <td>0.020443</td>\n",
       "      <td>0.011621</td>\n",
       "      <td>-0.011603</td>\n",
       "      <td>0.311738</td>\n",
       "      <td>0.024280</td>\n",
       "      <td>0.039790</td>\n",
       "      <td>-0.012819</td>\n",
       "      <td>1.000000</td>\n",
       "      <td>0.019888</td>\n",
       "      <td>0.011526</td>\n",
       "      <td>0.012705</td>\n",
       "      <td>-0.000463</td>\n",
       "    </tr>\n",
       "    <tr>\n",
       "      <th>Product_Category_1</th>\n",
       "      <td>0.003825</td>\n",
       "      <td>0.074717</td>\n",
       "      <td>-0.045594</td>\n",
       "      <td>0.061197</td>\n",
       "      <td>-0.007618</td>\n",
       "      <td>-0.014364</td>\n",
       "      <td>-0.004213</td>\n",
       "      <td>0.019888</td>\n",
       "      <td>1.000000</td>\n",
       "      <td>0.331691</td>\n",
       "      <td>0.195930</td>\n",
       "      <td>-0.343703</td>\n",
       "    </tr>\n",
       "    <tr>\n",
       "      <th>Product_Category_2</th>\n",
       "      <td>0.001644</td>\n",
       "      <td>-0.001079</td>\n",
       "      <td>-0.014051</td>\n",
       "      <td>0.043503</td>\n",
       "      <td>0.000557</td>\n",
       "      <td>-0.006888</td>\n",
       "      <td>-0.001087</td>\n",
       "      <td>0.011526</td>\n",
       "      <td>0.331691</td>\n",
       "      <td>1.000000</td>\n",
       "      <td>0.416680</td>\n",
       "      <td>-0.156676</td>\n",
       "    </tr>\n",
       "    <tr>\n",
       "      <th>Product_Category_3</th>\n",
       "      <td>0.001008</td>\n",
       "      <td>0.053231</td>\n",
       "      <td>0.005887</td>\n",
       "      <td>0.035310</td>\n",
       "      <td>0.004325</td>\n",
       "      <td>-0.011300</td>\n",
       "      <td>0.000673</td>\n",
       "      <td>0.012705</td>\n",
       "      <td>0.195930</td>\n",
       "      <td>0.416680</td>\n",
       "      <td>1.000000</td>\n",
       "      <td>-0.093656</td>\n",
       "    </tr>\n",
       "    <tr>\n",
       "      <th>Purchase</th>\n",
       "      <td>0.004716</td>\n",
       "      <td>-0.109345</td>\n",
       "      <td>0.060346</td>\n",
       "      <td>0.015839</td>\n",
       "      <td>0.020833</td>\n",
       "      <td>0.061914</td>\n",
       "      <td>0.005422</td>\n",
       "      <td>-0.000463</td>\n",
       "      <td>-0.343703</td>\n",
       "      <td>-0.156676</td>\n",
       "      <td>-0.093656</td>\n",
       "      <td>1.000000</td>\n",
       "    </tr>\n",
       "  </tbody>\n",
       "</table>\n",
       "</div>"
      ],
      "text/plain": [
       "                             User_ID  Product_ID    Gender       Age  \\\n",
       "User_ID                     1.000000   -0.017851 -0.033474  0.032698   \n",
       "Product_ID                 -0.017851    1.000000  0.015916  0.023476   \n",
       "Gender                     -0.033474    0.015916  1.000000 -0.004262   \n",
       "Age                         0.032698    0.023476 -0.004262  1.000000   \n",
       "Occupation                 -0.023971    0.007424  0.117291  0.091463   \n",
       "City_Category               0.022859    0.007032 -0.004515  0.123079   \n",
       "Stay_In_Current_City_Years -0.030737   -0.002398  0.014660 -0.004712   \n",
       "Marital_Status              0.020443    0.011621 -0.011603  0.311738   \n",
       "Product_Category_1          0.003825    0.074717 -0.045594  0.061197   \n",
       "Product_Category_2          0.001644   -0.001079 -0.014051  0.043503   \n",
       "Product_Category_3          0.001008    0.053231  0.005887  0.035310   \n",
       "Purchase                    0.004716   -0.109345  0.060346  0.015839   \n",
       "\n",
       "                            Occupation  City_Category  \\\n",
       "User_ID                      -0.023971       0.022859   \n",
       "Product_ID                    0.007424       0.007032   \n",
       "Gender                        0.117291      -0.004515   \n",
       "Age                           0.091463       0.123079   \n",
       "Occupation                    1.000000       0.034479   \n",
       "City_Category                 0.034479       1.000000   \n",
       "Stay_In_Current_City_Years    0.030005       0.019946   \n",
       "Marital_Status                0.024280       0.039790   \n",
       "Product_Category_1           -0.007618      -0.014364   \n",
       "Product_Category_2            0.000557      -0.006888   \n",
       "Product_Category_3            0.004325      -0.011300   \n",
       "Purchase                      0.020833       0.061914   \n",
       "\n",
       "                            Stay_In_Current_City_Years  Marital_Status  \\\n",
       "User_ID                                      -0.030737        0.020443   \n",
       "Product_ID                                   -0.002398        0.011621   \n",
       "Gender                                        0.014660       -0.011603   \n",
       "Age                                          -0.004712        0.311738   \n",
       "Occupation                                    0.030005        0.024280   \n",
       "City_Category                                 0.019946        0.039790   \n",
       "Stay_In_Current_City_Years                    1.000000       -0.012819   \n",
       "Marital_Status                               -0.012819        1.000000   \n",
       "Product_Category_1                           -0.004213        0.019888   \n",
       "Product_Category_2                           -0.001087        0.011526   \n",
       "Product_Category_3                            0.000673        0.012705   \n",
       "Purchase                                      0.005422       -0.000463   \n",
       "\n",
       "                            Product_Category_1  Product_Category_2  \\\n",
       "User_ID                               0.003825            0.001644   \n",
       "Product_ID                            0.074717           -0.001079   \n",
       "Gender                               -0.045594           -0.014051   \n",
       "Age                                   0.061197            0.043503   \n",
       "Occupation                           -0.007618            0.000557   \n",
       "City_Category                        -0.014364           -0.006888   \n",
       "Stay_In_Current_City_Years           -0.004213           -0.001087   \n",
       "Marital_Status                        0.019888            0.011526   \n",
       "Product_Category_1                    1.000000            0.331691   \n",
       "Product_Category_2                    0.331691            1.000000   \n",
       "Product_Category_3                    0.195930            0.416680   \n",
       "Purchase                             -0.343703           -0.156676   \n",
       "\n",
       "                            Product_Category_3  Purchase  \n",
       "User_ID                               0.001008  0.004716  \n",
       "Product_ID                            0.053231 -0.109345  \n",
       "Gender                                0.005887  0.060346  \n",
       "Age                                   0.035310  0.015839  \n",
       "Occupation                            0.004325  0.020833  \n",
       "City_Category                        -0.011300  0.061914  \n",
       "Stay_In_Current_City_Years            0.000673  0.005422  \n",
       "Marital_Status                        0.012705 -0.000463  \n",
       "Product_Category_1                    0.195930 -0.343703  \n",
       "Product_Category_2                    0.416680 -0.156676  \n",
       "Product_Category_3                    1.000000 -0.093656  \n",
       "Purchase                             -0.093656  1.000000  "
      ]
     },
     "execution_count": 215,
     "metadata": {},
     "output_type": "execute_result"
    }
   ],
   "source": [
    "df.corr()"
   ]
  },
  {
   "cell_type": "code",
   "execution_count": 216,
   "id": "d079fd23-8307-46a9-ae43-9ccd7e1b5294",
   "metadata": {},
   "outputs": [],
   "source": [
    "import seaborn as sns"
   ]
  },
  {
   "cell_type": "code",
   "execution_count": 219,
   "id": "6dbc201c-7820-4339-9ef6-ba1717829734",
   "metadata": {},
   "outputs": [
    {
     "data": {
      "text/plain": [
       "<Axes: >"
      ]
     },
     "execution_count": 219,
     "metadata": {},
     "output_type": "execute_result"
    },
    {
     "data": {
      "image/png": "[encoded data removed]",
      "text/plain": [
       "<Figure size 640x480 with 2 Axes>"
      ]
     },
     "metadata": {},
     "output_type": "display_data"
    }
   ],
   "source": [
    "sns.heatmap(df.corr())"
   ]
  },
  {
   "cell_type": "code",
   "execution_count": null,
   "id": "7694ee52-2552-498d-9e78-25f041f7662b",
   "metadata": {},
   "outputs": [],
   "source": []
  }
 ],
 "metadata": {
  "kernelspec": {
   "display_name": "Python 3 (ipykernel)",
   "language": "python",
   "name": "python3"
  },
  "language_info": {
   "codemirror_mode": {
    "name": "ipython",
    "version": 3
   },
   "file_extension": ".py",
   "mimetype": "text/x-python",
   "name": "python",
   "nbconvert_exporter": "python",
   "pygments_lexer": "ipython3",
   "version": "3.11.7"
  }
 },
 "nbformat": 4,
 "nbformat_minor": 5
}
